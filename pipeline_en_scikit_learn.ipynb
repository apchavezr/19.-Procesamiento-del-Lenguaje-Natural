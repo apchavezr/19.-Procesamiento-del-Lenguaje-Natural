{
  "nbformat": 4,
  "nbformat_minor": 0,
  "metadata": {
    "colab": {
      "provenance": [],
      "authorship_tag": "ABX9TyO9NyYqGO8PuVp68W1Puk7Z",
      "include_colab_link": true
    },
    "kernelspec": {
      "name": "python3",
      "display_name": "Python 3"
    },
    "language_info": {
      "name": "python"
    }
  },
  "cells": [
    {
      "cell_type": "markdown",
      "metadata": {
        "id": "view-in-github",
        "colab_type": "text"
      },
      "source": [
        "<a href=\"https://colab.research.google.com/github/apchavezr/19.-Procesamiento-del-Lenguaje-Natural/blob/main/pipeline_en_scikit_learn.ipynb\" target=\"_parent\"><img src=\"https://colab.research.google.com/assets/colab-badge.svg\" alt=\"Open In Colab\"/></a>"
      ]
    },
    {
      "cell_type": "markdown",
      "source": [
        "# Ejemplo 2. Clasificación de sentimientos en español.\n",
        "\n",
        "Construcción de un pipeline en scikit-learn que encadena todas las fases: Corpus en bruto → Limpieza → Tokenización → Embeddings (TF-IDF) → Entrenamiento → Validación → Registro de métricas."
      ],
      "metadata": {
        "id": "hF_aeIho7Azt"
      }
    },
    {
      "cell_type": "markdown",
      "source": [
        "Explicación del flujo\n",
        "* 1.\tCorpus en bruto → se definen reseñas cortas.\n",
        "* 2.\tLimpieza → minúsculas y eliminación de caracteres no alfabéticos.\n",
        "* 3.\tTokenización y embeddings → TfidfVectorizer convierte los textos en vectores numéricos.\n",
        "* 4.\tEntrenamiento → LogisticRegression aprende a distinguir reseñas positivas y negativas.\n",
        "* 5.\tValidación → classification_report y confusion_matrix registran métricas.\n"
      ],
      "metadata": {
        "id": "T3goHruR54ed"
      }
    },
    {
      "cell_type": "code",
      "source": [
        "# 0. Imports\n",
        "import re\n",
        "import numpy as np\n",
        "import matplotlib.pyplot as plt\n",
        "from sklearn.model_selection import train_test_split\n",
        "from sklearn.feature_extraction.text import TfidfVectorizer\n",
        "from sklearn.linear_model import LogisticRegression\n",
        "from sklearn.pipeline import Pipeline\n",
        "from sklearn.metrics import (\n",
        "    classification_report, confusion_matrix, ConfusionMatrixDisplay,\n",
        "    roc_curve, auc\n",
        ")\n",
        "\n",
        "# 1. Corpus en bruto (dataset ampliado)\n",
        "corpus = [\n",
        "    # Positivas\n",
        "    \"La película fue excelente, muy entretenida y conmovedora\",\n",
        "    \"Me encantó la fotografía y la música\",\n",
        "    \"Un espectáculo visual, realmente impresionante\",\n",
        "    \"Los actores hicieron un trabajo increíble\",\n",
        "    \"La historia fue hermosa y muy inspiradora\",\n",
        "    \"Disfruté cada minuto, una obra maestra del cine\",\n",
        "    \"El final fue sorprendente y emotivo\",\n",
        "    \"Los paisajes eran bellísimos, una experiencia sensorial total\",\n",
        "    \"La dirección fue impecable y el ritmo perfecto\",\n",
        "    \"Una película que recomendaría sin dudarlo\",\n",
        "\n",
        "    # Negativas\n",
        "    \"El guion fue aburrido y la actuación muy pobre\",\n",
        "    \"La trama fue lenta y predecible\",\n",
        "    \"No me gustó, esperaba mucho más\",\n",
        "    \"La película fue una pérdida de tiempo\",\n",
        "    \"Los diálogos eran artificiales y sin emoción\",\n",
        "    \"El sonido era terrible y no se entendía nada\",\n",
        "    \"La historia no tenía sentido alguno\",\n",
        "    \"Demasiado cliché y con actuaciones mediocres\",\n",
        "    \"El final fue decepcionante y forzado\",\n",
        "    \"Una de las peores películas que he visto\",\n",
        "\n",
        "    # Neutras\n",
        "    \"La película duró dos horas\",\n",
        "    \"El protagonista llevaba una camisa azul\",\n",
        "    \"Se filmó en varios países de Europa\",\n",
        "    \"Los créditos aparecieron al final como siempre\",\n",
        "    \"La película fue estrenada en verano\",\n",
        "    \"El director es conocido por otros trabajos similares\",\n",
        "    \"Hubo escenas de acción, drama y comedia\",\n",
        "    \"Los efectos visuales fueron correctos\",\n",
        "    \"La historia fue simple pero bien contada\",\n",
        "    \"No me provocó ni emoción ni aburrimiento\",\n",
        "]\n",
        "\n",
        "# Etiquetas (1 = positivo, 0 = negativo, 2 = neutro)\n",
        "labels = [\n",
        "    1, 1, 1, 1, 1, 1, 1, 1, 1, 1,   # positivas\n",
        "    0, 0, 0, 0, 0, 0, 0, 0, 0, 0,   # negativas\n",
        "    2, 2, 2, 2, 2, 2, 2, 2, 2, 2    # neutras\n",
        "]\n",
        "\n",
        "# 2. Función de limpieza básica\n",
        "def limpiar_texto(texto):\n",
        "    texto = texto.lower()\n",
        "    texto = re.sub(r\"[^a-záéíóúñü\\s]\", \"\", texto)\n",
        "    return texto\n",
        "\n",
        "corpus_limpio = [limpiar_texto(t) for t in corpus]\n",
        "\n",
        "# 3. División en entrenamiento y prueba\n",
        "X_train, X_test, y_train, y_test = train_test_split(\n",
        "    corpus_limpio, labels, test_size=0.3, random_state=42, stratify=labels\n",
        ")\n",
        "\n",
        "# 4. Definición del pipeline\n",
        "pipeline = Pipeline([\n",
        "    (\"vectorizador\", TfidfVectorizer()),\n",
        "    (\"clasificador\", LogisticRegression(max_iter=1000, multi_class=\"ovr\"))\n",
        "])\n",
        "\n",
        "# 5. Entrenamiento\n",
        "pipeline.fit(X_train, y_train)\n",
        "\n",
        "# 6. Validación\n",
        "y_pred = pipeline.predict(X_test)\n",
        "print(\"Reporte de clasificación:\\n\")\n",
        "print(classification_report(y_test, y_pred, target_names=[\"negativo\",\"positivo\",\"neutro\"]))\n",
        "print(\"Matriz de confusión:\\n\")\n",
        "print(confusion_matrix(y_test, y_pred))\n",
        "\n",
        "# 7. Gráfica de resultados del procesamiento de sentimientos\n",
        "etiquetas = [\"negativo\", \"positivo\", \"neutro\"]\n",
        "\n",
        "valores, cuentas = np.unique(y_pred, return_counts=True)\n",
        "fig1 = plt.figure(figsize=(6,4))\n",
        "ax1 = fig1.gca()\n",
        "ax1.bar([etiquetas[v] for v in valores], cuentas)\n",
        "ax1.set_title(\"Distribución de sentimientos (predicho)\")\n",
        "ax1.set_ylabel(\"Frecuencia\")\n",
        "ax1.set_xlabel(\"Clase\")\n",
        "ax1.grid(axis=\"y\", linestyle=\"--\", linewidth=0.5, alpha=0.6)\n",
        "fig1.tight_layout()\n",
        "\n",
        "plt.show()\n"
      ],
      "metadata": {
        "colab": {
          "base_uri": "https://localhost:8080/",
          "height": 861
        },
        "id": "hnXpFRAb2ltE",
        "outputId": "e13fa97c-e081-4548-c56d-2f810e4f70fa"
      },
      "execution_count": 8,
      "outputs": [
        {
          "output_type": "stream",
          "name": "stderr",
          "text": [
            "/usr/local/lib/python3.12/dist-packages/sklearn/linear_model/_logistic.py:1256: FutureWarning: 'multi_class' was deprecated in version 1.5 and will be removed in 1.7. Use OneVsRestClassifier(LogisticRegression(..)) instead. Leave it to its default value to avoid this warning.\n",
            "  warnings.warn(\n",
            "/usr/local/lib/python3.12/dist-packages/sklearn/metrics/_classification.py:1565: UndefinedMetricWarning: Precision is ill-defined and being set to 0.0 in labels with no predicted samples. Use `zero_division` parameter to control this behavior.\n",
            "  _warn_prf(average, modifier, f\"{metric.capitalize()} is\", len(result))\n",
            "/usr/local/lib/python3.12/dist-packages/sklearn/metrics/_classification.py:1565: UndefinedMetricWarning: Precision is ill-defined and being set to 0.0 in labels with no predicted samples. Use `zero_division` parameter to control this behavior.\n",
            "  _warn_prf(average, modifier, f\"{metric.capitalize()} is\", len(result))\n",
            "/usr/local/lib/python3.12/dist-packages/sklearn/metrics/_classification.py:1565: UndefinedMetricWarning: Precision is ill-defined and being set to 0.0 in labels with no predicted samples. Use `zero_division` parameter to control this behavior.\n",
            "  _warn_prf(average, modifier, f\"{metric.capitalize()} is\", len(result))\n"
          ]
        },
        {
          "output_type": "stream",
          "name": "stdout",
          "text": [
            "Reporte de clasificación:\n",
            "\n",
            "              precision    recall  f1-score   support\n",
            "\n",
            "    negativo       0.00      0.00      0.00         3\n",
            "    positivo       0.29      0.67      0.40         3\n",
            "      neutro       0.00      0.00      0.00         3\n",
            "\n",
            "    accuracy                           0.22         9\n",
            "   macro avg       0.10      0.22      0.13         9\n",
            "weighted avg       0.10      0.22      0.13         9\n",
            "\n",
            "Matriz de confusión:\n",
            "\n",
            "[[0 3 0]\n",
            " [1 2 0]\n",
            " [1 2 0]]\n"
          ]
        },
        {
          "output_type": "display_data",
          "data": {
            "text/plain": [
              "<Figure size 600x400 with 1 Axes>"
            ],
            "image/png": "[encoded data removed]"
          },
          "metadata": {}
        }
      ]
    },
    {
      "cell_type": "markdown",
      "source": [
        "### **Resultados**\n",
        "\n",
        "**Precisión (precision):** mide qué porcentaje de las predicciones por clase fueron correctas. El modelo mostró una mayor precisión en la clase *positivo*, mientras que las clases *negativo* y *neutro* no fueron correctamente identificadas.\n",
        "\n",
        "**Cobertura (recall):** indica qué proporción de los casos reales fueron detectados correctamente. La clase *positivo* obtuvo la mayor cobertura, mientras que las demás categorías no lograron ser reconocidas.\n",
        "\n",
        "**F1-score:** combina precisión y cobertura en una sola métrica. Los valores fueron bajos y desbalanceados, lo que refleja un desempeño limitado del modelo.\n",
        "\n",
        "**Support:** cada clase contó con tres ejemplos en el conjunto de prueba, lo que hace que los resultados sean sensibles a pequeños errores de clasificación.\n",
        "\n",
        "**Accuracy global:** el modelo alcanzó una exactitud aproximada del 22 %, lo que indica una tendencia a clasificar la mayoría de las frases como *positivas*.\n",
        "\n",
        "### **Matriz de confusión**\n",
        "\n",
        "La primera fila representa los ejemplos de la clase *negativo*: todos fueron confundidos con *positivo*.\n",
        "La segunda fila muestra que algunas frases *positivas* fueron correctamente clasificadas.\n",
        "La tercera fila refleja que las frases *neutras* también fueron confundidas con *positivo*.\n",
        "\n",
        "**Resultado:** el modelo presenta un sesgo hacia la clase *positivo* y baja capacidad para distinguir entre emociones diferentes.\n",
        "\n",
        "**Grafica distribución de sentimientos:** se evidencia una tendencia del modelo a clasificar la mayoría de las frases como positivas, mostrando un desequilibrio en la distribución de predicciones. Esto sugiere que el modelo no distingue adecuadamente entre los diferentes tipos de sentimiento, posiblemente por el tamaño reducido o el desbalance del conjunto de datos, lo que limita su capacidad para representar con precisión la diversidad emocional del texto.\n",
        "\n",
        "### **Conclusiones**\n",
        "\n",
        "El pipeline cumplió su función de prueba, pero el modelo mostró un rendimiento limitado debido al tamaño reducido y al desbalance del corpus.\n",
        "En escenarios reales, con conjuntos de datos más amplios y equilibrados, se esperaría un mejor desempeño.\n",
        "Será necesario ampliar el corpus y probar modelos más robustos, como **BETO o BERT en español**, para captar mejor el contexto y la polaridad emocional del lenguaje.\n"
      ],
      "metadata": {
        "id": "UlKg81FR6Bnl"
      }
    }
  ]
}