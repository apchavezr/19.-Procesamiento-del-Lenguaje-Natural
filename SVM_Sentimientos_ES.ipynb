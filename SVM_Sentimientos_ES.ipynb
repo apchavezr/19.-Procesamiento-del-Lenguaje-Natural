{
  "cells": [
    {
      "cell_type": "markdown",
      "metadata": {
        "id": "view-in-github",
        "colab_type": "text"
      },
      "source": [
        "<a href=\"https://colab.research.google.com/github/apchavezr/19.-Procesamiento-del-Lenguaje-Natural/blob/main/SVM_Sentimientos_ES.ipynb\" target=\"_parent\"><img src=\"https://colab.research.google.com/assets/colab-badge.svg\" alt=\"Open In Colab\"/></a>"
      ]
    },
    {
      "cell_type": "markdown",
      "metadata": {
        "id": "0PpGsbeKVo-P"
      },
      "source": [
        "\n",
        "# Ejemplo 2. Análisis de sentimientos con SVM (español)\n",
        "\n",
        "**Objetivo:** clasificar reseñas de películas como **positivas** o **negativas** usando **TF-IDF** y **SVM** (LinearSVC).  \n",
        "Se entrenará un modelo, se evaluará con métricas estándar y se visualizará la matriz de confusión.  \n",
        "Incluye ejercicios para experimentar con n-gramas y *C* (regularización).\n"
      ],
      "id": "0PpGsbeKVo-P"
    },
    {
      "cell_type": "markdown",
      "metadata": {
        "id": "ED5rVvDdVpAl"
      },
      "source": [
        "\n",
        "## contenidos y resultados de aprendizaje\n",
        "1. crear un mini dataset sintético (reseñas positivas/negativas).\n",
        "2. dividir en *train/test* estratificado.\n",
        "3. construir un *pipeline* `TfidfVectorizer` + `LinearSVC`.\n",
        "4. entrenar, evaluar y analizar métricas: **accuracy**, **precision**, **recall**, **F1**.\n",
        "5. visualizar la **matriz de confusión**.\n",
        "6. realizar predicciones sobre nuevas reseñas.\n",
        "7. ejercicios guiados (n-gramas, regularización, limpieza, ampliación del dataset).\n"
      ],
      "id": "ED5rVvDdVpAl"
    },
    {
      "cell_type": "code",
      "metadata": {
        "id": "q-HIrkivVpAl"
      },
      "execution_count": 1,
      "outputs": [],
      "source": [
        "\n",
        "# En Colab: descomente si requiere instalar\n",
        "# !pip install scikit-learn pandas matplotlib --quiet\n",
        "\n",
        "import pandas as pd\n",
        "import numpy as np\n",
        "import matplotlib.pyplot as plt\n",
        "\n",
        "from sklearn.model_selection import train_test_split\n",
        "from sklearn.feature_extraction.text import TfidfVectorizer\n",
        "from sklearn.pipeline import Pipeline\n",
        "from sklearn.svm import LinearSVC\n",
        "from sklearn.metrics import classification_report, confusion_matrix, accuracy_score\n"
      ],
      "id": "q-HIrkivVpAl"
    },
    {
      "cell_type": "markdown",
      "metadata": {
        "id": "a567m0RMVpA-"
      },
      "source": [
        "\n",
        "## 1. crear el dataset sintético\n"
      ],
      "id": "a567m0RMVpA-"
    },
    {
      "cell_type": "code",
      "metadata": {
        "colab": {
          "base_uri": "https://localhost:8080/",
          "height": 237
        },
        "id": "FKR7xRkgVpA_",
        "outputId": "078d2f53-ae2c-4be3-fa02-456e859447dd"
      },
      "execution_count": 2,
      "outputs": [
        {
          "output_type": "execute_result",
          "data": {
            "text/plain": [
              "                                                texto  etiqueta\n",
              "18     falló en generar tensión, totalmente olvidable  negativa\n",
              "1              una historia impactante y bien contada  positiva\n",
              "19  prometía mucho pero resultó decepcionante y torpe  negativa\n",
              "8            diálogos inteligentes y una trama sólida  positiva\n",
              "10         aburrida y predecible, me dormí a la mitad  negativa\n",
              "17             diálogos vacíos y escenas innecesarias  negativa"
            ],
            "text/html": [
              "\n",
              "  <div id=\"df-77166025-3e29-4101-83c1-4f57e0b1a028\" class=\"colab-df-container\">\n",
              "    <div>\n",
              "<style scoped>\n",
              "    .dataframe tbody tr th:only-of-type {\n",
              "        vertical-align: middle;\n",
              "    }\n",
              "\n",
              "    .dataframe tbody tr th {\n",
              "        vertical-align: top;\n",
              "    }\n",
              "\n",
              "    .dataframe thead th {\n",
              "        text-align: right;\n",
              "    }\n",
              "</style>\n",
              "<table border=\"1\" class=\"dataframe\">\n",
              "  <thead>\n",
              "    <tr style=\"text-align: right;\">\n",
              "      <th></th>\n",
              "      <th>texto</th>\n",
              "      <th>etiqueta</th>\n",
              "    </tr>\n",
              "  </thead>\n",
              "  <tbody>\n",
              "    <tr>\n",
              "      <th>18</th>\n",
              "      <td>falló en generar tensión, totalmente olvidable</td>\n",
              "      <td>negativa</td>\n",
              "    </tr>\n",
              "    <tr>\n",
              "      <th>1</th>\n",
              "      <td>una historia impactante y bien contada</td>\n",
              "      <td>positiva</td>\n",
              "    </tr>\n",
              "    <tr>\n",
              "      <th>19</th>\n",
              "      <td>prometía mucho pero resultó decepcionante y torpe</td>\n",
              "      <td>negativa</td>\n",
              "    </tr>\n",
              "    <tr>\n",
              "      <th>8</th>\n",
              "      <td>diálogos inteligentes y una trama sólida</td>\n",
              "      <td>positiva</td>\n",
              "    </tr>\n",
              "    <tr>\n",
              "      <th>10</th>\n",
              "      <td>aburrida y predecible, me dormí a la mitad</td>\n",
              "      <td>negativa</td>\n",
              "    </tr>\n",
              "    <tr>\n",
              "      <th>17</th>\n",
              "      <td>diálogos vacíos y escenas innecesarias</td>\n",
              "      <td>negativa</td>\n",
              "    </tr>\n",
              "  </tbody>\n",
              "</table>\n",
              "</div>\n",
              "    <div class=\"colab-df-buttons\">\n",
              "\n",
              "  <div class=\"colab-df-container\">\n",
              "    <button class=\"colab-df-convert\" onclick=\"convertToInteractive('df-77166025-3e29-4101-83c1-4f57e0b1a028')\"\n",
              "            title=\"Convert this dataframe to an interactive table.\"\n",
              "            style=\"display:none;\">\n",
              "\n",
              "  <svg xmlns=\"http://www.w3.org/2000/svg\" height=\"24px\" viewBox=\"0 -960 960 960\">\n",
              "    <path d=\"M120-120v-720h720v720H120Zm60-500h600v-160H180v160Zm220 220h160v-160H400v160Zm0 220h160v-160H400v160ZM180-400h160v-160H180v160Zm440 0h160v-160H620v160ZM180-180h160v-160H180v160Zm440 0h160v-160H620v160Z\"/>\n",
              "  </svg>\n",
              "    </button>\n",
              "\n",
              "  <style>\n",
              "    .colab-df-container {\n",
              "      display:flex;\n",
              "      gap: 12px;\n",
              "    }\n",
              "\n",
              "    .colab-df-convert {\n",
              "      background-color: #E8F0FE;\n",
              "      border: none;\n",
              "      border-radius: 50%;\n",
              "      cursor: pointer;\n",
              "      display: none;\n",
              "      fill: #1967D2;\n",
              "      height: 32px;\n",
              "      padding: 0 0 0 0;\n",
              "      width: 32px;\n",
              "    }\n",
              "\n",
              "    .colab-df-convert:hover {\n",
              "      background-color: #E2EBFA;\n",
              "      box-shadow: 0px 1px 2px rgba(60, 64, 67, 0.3), 0px 1px 3px 1px rgba(60, 64, 67, 0.15);\n",
              "      fill: #174EA6;\n",
              "    }\n",
              "\n",
              "    .colab-df-buttons div {\n",
              "      margin-bottom: 4px;\n",
              "    }\n",
              "\n",
              "    [theme=dark] .colab-df-convert {\n",
              "      background-color: #3B4455;\n",
              "      fill: #D2E3FC;\n",
              "    }\n",
              "\n",
              "    [theme=dark] .colab-df-convert:hover {\n",
              "      background-color: #434B5C;\n",
              "      box-shadow: 0px 1px 3px 1px rgba(0, 0, 0, 0.15);\n",
              "      filter: drop-shadow(0px 1px 2px rgba(0, 0, 0, 0.3));\n",
              "      fill: #FFFFFF;\n",
              "    }\n",
              "  </style>\n",
              "\n",
              "    <script>\n",
              "      const buttonEl =\n",
              "        document.querySelector('#df-77166025-3e29-4101-83c1-4f57e0b1a028 button.colab-df-convert');\n",
              "      buttonEl.style.display =\n",
              "        google.colab.kernel.accessAllowed ? 'block' : 'none';\n",
              "\n",
              "      async function convertToInteractive(key) {\n",
              "        const element = document.querySelector('#df-77166025-3e29-4101-83c1-4f57e0b1a028');\n",
              "        const dataTable =\n",
              "          await google.colab.kernel.invokeFunction('convertToInteractive',\n",
              "                                                    [key], {});\n",
              "        if (!dataTable) return;\n",
              "\n",
              "        const docLinkHtml = 'Like what you see? Visit the ' +\n",
              "          '<a target=\"_blank\" href=https://colab.research.google.com/notebooks/data_table.ipynb>data table notebook</a>'\n",
              "          + ' to learn more about interactive tables.';\n",
              "        element.innerHTML = '';\n",
              "        dataTable['output_type'] = 'display_data';\n",
              "        await google.colab.output.renderOutput(dataTable, element);\n",
              "        const docLink = document.createElement('div');\n",
              "        docLink.innerHTML = docLinkHtml;\n",
              "        element.appendChild(docLink);\n",
              "      }\n",
              "    </script>\n",
              "  </div>\n",
              "\n",
              "\n",
              "    <div id=\"df-26e2e711-2483-48a7-8b3e-0b008246bdf9\">\n",
              "      <button class=\"colab-df-quickchart\" onclick=\"quickchart('df-26e2e711-2483-48a7-8b3e-0b008246bdf9')\"\n",
              "                title=\"Suggest charts\"\n",
              "                style=\"display:none;\">\n",
              "\n",
              "<svg xmlns=\"http://www.w3.org/2000/svg\" height=\"24px\"viewBox=\"0 0 24 24\"\n",
              "     width=\"24px\">\n",
              "    <g>\n",
              "        <path d=\"M19 3H5c-1.1 0-2 .9-2 2v14c0 1.1.9 2 2 2h14c1.1 0 2-.9 2-2V5c0-1.1-.9-2-2-2zM9 17H7v-7h2v7zm4 0h-2V7h2v10zm4 0h-2v-4h2v4z\"/>\n",
              "    </g>\n",
              "</svg>\n",
              "      </button>\n",
              "\n",
              "<style>\n",
              "  .colab-df-quickchart {\n",
              "      --bg-color: #E8F0FE;\n",
              "      --fill-color: #1967D2;\n",
              "      --hover-bg-color: #E2EBFA;\n",
              "      --hover-fill-color: #174EA6;\n",
              "      --disabled-fill-color: #AAA;\n",
              "      --disabled-bg-color: #DDD;\n",
              "  }\n",
              "\n",
              "  [theme=dark] .colab-df-quickchart {\n",
              "      --bg-color: #3B4455;\n",
              "      --fill-color: #D2E3FC;\n",
              "      --hover-bg-color: #434B5C;\n",
              "      --hover-fill-color: #FFFFFF;\n",
              "      --disabled-bg-color: #3B4455;\n",
              "      --disabled-fill-color: #666;\n",
              "  }\n",
              "\n",
              "  .colab-df-quickchart {\n",
              "    background-color: var(--bg-color);\n",
              "    border: none;\n",
              "    border-radius: 50%;\n",
              "    cursor: pointer;\n",
              "    display: none;\n",
              "    fill: var(--fill-color);\n",
              "    height: 32px;\n",
              "    padding: 0;\n",
              "    width: 32px;\n",
              "  }\n",
              "\n",
              "  .colab-df-quickchart:hover {\n",
              "    background-color: var(--hover-bg-color);\n",
              "    box-shadow: 0 1px 2px rgba(60, 64, 67, 0.3), 0 1px 3px 1px rgba(60, 64, 67, 0.15);\n",
              "    fill: var(--button-hover-fill-color);\n",
              "  }\n",
              "\n",
              "  .colab-df-quickchart-complete:disabled,\n",
              "  .colab-df-quickchart-complete:disabled:hover {\n",
              "    background-color: var(--disabled-bg-color);\n",
              "    fill: var(--disabled-fill-color);\n",
              "    box-shadow: none;\n",
              "  }\n",
              "\n",
              "  .colab-df-spinner {\n",
              "    border: 2px solid var(--fill-color);\n",
              "    border-color: transparent;\n",
              "    border-bottom-color: var(--fill-color);\n",
              "    animation:\n",
              "      spin 1s steps(1) infinite;\n",
              "  }\n",
              "\n",
              "  @keyframes spin {\n",
              "    0% {\n",
              "      border-color: transparent;\n",
              "      border-bottom-color: var(--fill-color);\n",
              "      border-left-color: var(--fill-color);\n",
              "    }\n",
              "    20% {\n",
              "      border-color: transparent;\n",
              "      border-left-color: var(--fill-color);\n",
              "      border-top-color: var(--fill-color);\n",
              "    }\n",
              "    30% {\n",
              "      border-color: transparent;\n",
              "      border-left-color: var(--fill-color);\n",
              "      border-top-color: var(--fill-color);\n",
              "      border-right-color: var(--fill-color);\n",
              "    }\n",
              "    40% {\n",
              "      border-color: transparent;\n",
              "      border-right-color: var(--fill-color);\n",
              "      border-top-color: var(--fill-color);\n",
              "    }\n",
              "    60% {\n",
              "      border-color: transparent;\n",
              "      border-right-color: var(--fill-color);\n",
              "    }\n",
              "    80% {\n",
              "      border-color: transparent;\n",
              "      border-right-color: var(--fill-color);\n",
              "      border-bottom-color: var(--fill-color);\n",
              "    }\n",
              "    90% {\n",
              "      border-color: transparent;\n",
              "      border-bottom-color: var(--fill-color);\n",
              "    }\n",
              "  }\n",
              "</style>\n",
              "\n",
              "      <script>\n",
              "        async function quickchart(key) {\n",
              "          const quickchartButtonEl =\n",
              "            document.querySelector('#' + key + ' button');\n",
              "          quickchartButtonEl.disabled = true;  // To prevent multiple clicks.\n",
              "          quickchartButtonEl.classList.add('colab-df-spinner');\n",
              "          try {\n",
              "            const charts = await google.colab.kernel.invokeFunction(\n",
              "                'suggestCharts', [key], {});\n",
              "          } catch (error) {\n",
              "            console.error('Error during call to suggestCharts:', error);\n",
              "          }\n",
              "          quickchartButtonEl.classList.remove('colab-df-spinner');\n",
              "          quickchartButtonEl.classList.add('colab-df-quickchart-complete');\n",
              "        }\n",
              "        (() => {\n",
              "          let quickchartButtonEl =\n",
              "            document.querySelector('#df-26e2e711-2483-48a7-8b3e-0b008246bdf9 button');\n",
              "          quickchartButtonEl.style.display =\n",
              "            google.colab.kernel.accessAllowed ? 'block' : 'none';\n",
              "        })();\n",
              "      </script>\n",
              "    </div>\n",
              "\n",
              "    </div>\n",
              "  </div>\n"
            ],
            "application/vnd.google.colaboratory.intrinsic+json": {
              "type": "dataframe",
              "summary": "{\n  \"name\": \"df\",\n  \"rows\": 6,\n  \"fields\": [\n    {\n      \"column\": \"texto\",\n      \"properties\": {\n        \"dtype\": \"string\",\n        \"num_unique_values\": 6,\n        \"samples\": [\n          \"fall\\u00f3 en generar tensi\\u00f3n, totalmente olvidable\",\n          \"una historia impactante y bien contada\",\n          \"di\\u00e1logos vac\\u00edos y escenas innecesarias\"\n        ],\n        \"semantic_type\": \"\",\n        \"description\": \"\"\n      }\n    },\n    {\n      \"column\": \"etiqueta\",\n      \"properties\": {\n        \"dtype\": \"category\",\n        \"num_unique_values\": 2,\n        \"samples\": [\n          \"positiva\",\n          \"negativa\"\n        ],\n        \"semantic_type\": \"\",\n        \"description\": \"\"\n      }\n    }\n  ]\n}"
            }
          },
          "metadata": {},
          "execution_count": 2
        }
      ],
      "source": [
        "\n",
        "positivas = [\n",
        "    \"excelente película, la actuación fue memorable\",\n",
        "    \"una historia impactante y bien contada\",\n",
        "    \"me encantó el guion y la dirección, totalmente recomendable\",\n",
        "    \"buen ritmo, personajes profundos y final conmovedor\",\n",
        "    \"fotografía hermosa y música cautivadora\",\n",
        "    \"una obra destacada, superó mis expectativas\",\n",
        "    \"gran actuación del reparto, muy convincente\",\n",
        "    \"emocionante de principio a fin, la volvería a ver\",\n",
        "    \"diálogos inteligentes y una trama sólida\",\n",
        "    \"experiencia cinematográfica gratificante y entretenida\"\n",
        "]\n",
        "\n",
        "negativas = [\n",
        "    \"aburrida y predecible, me dormí a la mitad\",\n",
        "    \"la actuación fue pobre y el guion confuso\",\n",
        "    \"sin emoción, lenta y con un final decepcionante\",\n",
        "    \"efectos mediocres y personajes poco creíbles\",\n",
        "    \"dirección floja, no la recomendaría\",\n",
        "    \"trama incoherente y desenlace forzado\",\n",
        "    \"demasiado larga y sin interés real\",\n",
        "    \"diálogos vacíos y escenas innecesarias\",\n",
        "    \"falló en generar tensión, totalmente olvidable\",\n",
        "    \"prometía mucho pero resultó decepcionante y torpe\"\n",
        "]\n",
        "\n",
        "df = pd.DataFrame({\n",
        "    \"texto\": positivas + negativas,\n",
        "    \"etiqueta\": [\"positiva\"] * len(positivas) + [\"negativa\"] * len(negativas)\n",
        "})\n",
        "\n",
        "df.sample(6, random_state=0)\n"
      ],
      "id": "FKR7xRkgVpA_"
    },
    {
      "cell_type": "markdown",
      "metadata": {
        "id": "0NE4pW8HVpA_"
      },
      "source": [
        "\n",
        "## 2. partición entrenamiento/prueba (estratificada)\n"
      ],
      "id": "0NE4pW8HVpA_"
    },
    {
      "cell_type": "code",
      "metadata": {
        "colab": {
          "base_uri": "https://localhost:8080/"
        },
        "id": "O6mDTP9UVpBP",
        "outputId": "14ab6e32-34f0-406d-adcf-c3fb71f58fe9"
      },
      "execution_count": 3,
      "outputs": [
        {
          "output_type": "execute_result",
          "data": {
            "text/plain": [
              "(14,\n",
              " 6,\n",
              " etiqueta\n",
              " positiva    7\n",
              " negativa    7\n",
              " Name: count, dtype: int64,\n",
              " etiqueta\n",
              " negativa    3\n",
              " positiva    3\n",
              " Name: count, dtype: int64)"
            ]
          },
          "metadata": {},
          "execution_count": 3
        }
      ],
      "source": [
        "\n",
        "X_train, X_test, y_train, y_test = train_test_split(\n",
        "    df[\"texto\"],\n",
        "    df[\"etiqueta\"],\n",
        "    test_size=0.3,\n",
        "    random_state=42,\n",
        "    stratify=df[\"etiqueta\"]\n",
        ")\n",
        "len(X_train), len(X_test), y_train.value_counts(), y_test.value_counts()\n"
      ],
      "id": "O6mDTP9UVpBP"
    },
    {
      "cell_type": "markdown",
      "metadata": {
        "id": "G_VloHVLVpBQ"
      },
      "source": [
        "\n",
        "## 3. pipeline TF-IDF + LinearSVC\n"
      ],
      "id": "G_VloHVLVpBQ"
    },
    {
      "cell_type": "code",
      "metadata": {
        "id": "pSW6WMLtVpBX"
      },
      "execution_count": 4,
      "outputs": [],
      "source": [
        "\n",
        "pipe = Pipeline([\n",
        "    (\"tfidf\", TfidfVectorizer(ngram_range=(1,2))),\n",
        "    (\"clf\", LinearSVC(C=1.0, max_iter=5000, dual=True))\n",
        "])\n"
      ],
      "id": "pSW6WMLtVpBX"
    },
    {
      "cell_type": "markdown",
      "metadata": {
        "id": "XMLXHkFqVpBY"
      },
      "source": [
        "\n",
        "## 4. entrenamiento y evaluación\n"
      ],
      "id": "XMLXHkFqVpBY"
    },
    {
      "cell_type": "code",
      "metadata": {
        "colab": {
          "base_uri": "https://localhost:8080/"
        },
        "id": "SuHlCIkrVpBY",
        "outputId": "33aad5d7-f431-4144-b945-fe791c9d8b2f"
      },
      "execution_count": 5,
      "outputs": [
        {
          "output_type": "stream",
          "name": "stdout",
          "text": [
            "Accuracy: 0.5\n",
            "\n",
            "Matriz de confusión (filas=verdad, columnas=predicción):\n",
            "          positiva  negativa\n",
            "positiva         1         2\n",
            "negativa         1         2\n",
            "\n",
            "Reporte de clasificación:\n",
            "              precision    recall  f1-score   support\n",
            "\n",
            "    positiva       0.50      0.67      0.57         3\n",
            "    negativa       0.50      0.33      0.40         3\n",
            "\n",
            "    accuracy                           0.50         6\n",
            "   macro avg       0.50      0.50      0.49         6\n",
            "weighted avg       0.50      0.50      0.49         6\n",
            "\n"
          ]
        }
      ],
      "source": [
        "\n",
        "pipe.fit(X_train, y_train)\n",
        "preds = pipe.predict(X_test)\n",
        "\n",
        "acc = accuracy_score(y_test, preds)\n",
        "cm = confusion_matrix(y_test, preds, labels=[\"positiva\",\"negativa\"])\n",
        "print(\"Accuracy:\", round(acc, 3))\n",
        "print(\"\\nMatriz de confusión (filas=verdad, columnas=predicción):\")\n",
        "print(pd.DataFrame(cm, index=[\"positiva\",\"negativa\"], columns=[\"positiva\",\"negativa\"]))\n",
        "\n",
        "print(\"\\nReporte de clasificación:\")\n",
        "print(classification_report(y_test, preds, target_names=[\"positiva\",\"negativa\"]))\n"
      ],
      "id": "SuHlCIkrVpBY"
    },
    {
      "cell_type": "markdown",
      "metadata": {
        "id": "tGNQFwjgVpBZ"
      },
      "source": [
        "\n",
        "## 5. visualización de la matriz de confusión\n"
      ],
      "id": "tGNQFwjgVpBZ"
    },
    {
      "cell_type": "code",
      "metadata": {
        "colab": {
          "base_uri": "https://localhost:8080/",
          "height": 307
        },
        "id": "97aCBoGcVpBZ",
        "outputId": "3a9b5d98-b6c3-499e-c8c0-dc1fd9bb4b89"
      },
      "execution_count": 6,
      "outputs": [
        {
          "output_type": "display_data",
          "data": {
            "text/plain": [
              "<Figure size 400x300 with 1 Axes>"
            ],
            "image/png": "[encoded data removed]"
          },
          "metadata": {}
        }
      ],
      "source": [
        "\n",
        "fig = plt.figure(figsize=(4,3))\n",
        "plt.imshow(cm, interpolation='nearest')\n",
        "plt.title(\"Matriz de confusión\")\n",
        "plt.xticks([0,1], [\"positiva\",\"negativa\"])\n",
        "plt.yticks([0,1], [\"positiva\",\"negativa\"])\n",
        "for i in range(cm.shape[0]):\n",
        "    for j in range(cm.shape[1]):\n",
        "        plt.text(j, i, str(cm[i, j]), ha=\"center\", va=\"center\")\n",
        "plt.xlabel(\"Predicción\")\n",
        "plt.ylabel(\"Real\")\n",
        "plt.tight_layout()\n",
        "plt.show()\n"
      ],
      "id": "97aCBoGcVpBZ"
    },
    {
      "cell_type": "markdown",
      "metadata": {
        "id": "4UPLOvWdVpBa"
      },
      "source": [
        "\n",
        "## 6. predicciones sobre nuevas reseñas\n"
      ],
      "id": "4UPLOvWdVpBa"
    },
    {
      "cell_type": "code",
      "metadata": {
        "colab": {
          "base_uri": "https://localhost:8080/"
        },
        "id": "GlxC-sAgVpBa",
        "outputId": "e69d85b1-09f9-417a-d732-87ef29f9c22e"
      },
      "execution_count": 7,
      "outputs": [
        {
          "output_type": "stream",
          "name": "stdout",
          "text": [
            "- la película fue lenta y sin emoción -> negativa\n",
            "- actuaciones brillantes y una historia poderosa -> positiva\n",
            "- fotografía impecable aunque el guion es flojo -> negativa\n",
            "- un final conmovedor y una música increíble -> positiva\n",
            "- demasiado predecible y sin sorpresas -> negativa\n"
          ]
        }
      ],
      "source": [
        "\n",
        "nuevas_reseñas = [\n",
        "    \"la película fue lenta y sin emoción\",\n",
        "    \"actuaciones brillantes y una historia poderosa\",\n",
        "    \"fotografía impecable aunque el guion es flojo\",\n",
        "    \"un final conmovedor y una música increíble\",\n",
        "    \"demasiado predecible y sin sorpresas\"\n",
        "]\n",
        "for r in nuevas_reseñas:\n",
        "    print(f\"- {r} -> {pipe.predict([r])[0]}\")\n"
      ],
      "id": "GlxC-sAgVpBa"
    },
    {
      "cell_type": "markdown",
      "metadata": {
        "id": "HWv6iDNTVpBa"
      },
      "source": [
        "\n",
        "## 7. ejercicios guiados\n",
        "1. n-gramas: cambie `ngram_range=(1,2)` a `(1,1)` y `(1,3)`. Compare métricas.\n",
        "2. regularización C: pruebe `C=0.5`, `C=2.0` y `C=5.0`.\n",
        "3. limpieza: normalice tildes, minúsculas o signos. ¿Afecta la precisión?\n",
        "4. ampliación: agregue 10 reseñas por clase con vocabulario variado. Vuelva a evaluar.\n",
        "5. errores: identifique textos mal clasificados y analice términos influyentes.\n"
      ],
      "id": "HWv6iDNTVpBa"
    }
  ],
  "metadata": {
    "kernelspec": {
      "display_name": "Python 3",
      "language": "python",
      "name": "python3"
    },
    "language_info": {
      "name": "python",
      "mimetype": "text/x-python",
      "file_extension": ".py",
      "pygments_lexer": "ipython3"
    },
    "colab": {
      "provenance": [],
      "include_colab_link": true
    }
  },
  "nbformat": 4,
  "nbformat_minor": 5
}