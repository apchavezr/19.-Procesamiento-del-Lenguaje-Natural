{
  "nbformat": 4,
  "nbformat_minor": 0,
  "metadata": {
    "colab": {
      "provenance": [],
      "authorship_tag": "ABX9TyPK63o5kT2JvnT3dw28kC+Y",
      "include_colab_link": true
    },
    "kernelspec": {
      "name": "python3",
      "display_name": "Python 3"
    },
    "language_info": {
      "name": "python"
    }
  },
  "cells": [
    {
      "cell_type": "markdown",
      "metadata": {
        "id": "view-in-github",
        "colab_type": "text"
      },
      "source": [
        "<a href=\"https://colab.research.google.com/github/apchavezr/19.-Procesamiento-del-Lenguaje-Natural/blob/main/Mineria_de_textos_en_noticias.ipynb\" target=\"_parent\"><img src=\"https://colab.research.google.com/assets/colab-badge.svg\" alt=\"Open In Colab\"/></a>"
      ]
    },
    {
      "cell_type": "markdown",
      "source": [
        "# Ejemplo 3. minería de textos en noticias\n",
        "\n",
        "En el ámbito periodístico y empresarial, la minería de textos permite transformar noticias en información estructurada que facilita el análisis de tendencias y la toma de decisiones.\n",
        "\n",
        "**Texto original:**\n",
        "“Ecopetrol anunció en Bogotá un acuerdo con Repsol para explorar yacimientos en Meta.”\n",
        "\n",
        ". Muestra:\n",
        "* NER con spaCy en español, y\n",
        "* una extracción de relaciones basada en reglas simples usando dependencias sintácticas."
      ],
      "metadata": {
        "id": "2wnF1gJnBSBg"
      }
    },
    {
      "cell_type": "code",
      "execution_count": 8,
      "metadata": {
        "colab": {
          "base_uri": "https://localhost:8080/"
        },
        "id": "rPSz0Pis-P4f",
        "outputId": "d77bb2a9-e314-482c-e83c-c44224458bfb"
      },
      "outputs": [
        {
          "output_type": "stream",
          "name": "stdout",
          "text": [
            "ENTIDADES (texto, etiqueta):\n",
            " - ('Ecopetrol', 'ORG')\n",
            " - ('Bogotá', 'LOC')\n",
            " - ('Repsol', 'ORG')\n",
            " - ('Meta', 'LOC')\n",
            "\n",
            "ENTIDADES (normalizadas):\n",
            " - Ecopetrol → Organización\n",
            " - Bogotá → Ubicación\n",
            " - Repsol → Organización\n",
            " - Meta → Ubicación\n",
            "\n",
            "RELACIONES:\n",
            " - Acuerdo → ubicación → Meta\n"
          ]
        }
      ],
      "source": [
        "#import spacy\n",
        "#from spacy.symbols import nsubj, VERB\n",
        "\n",
        "nlp = spacy.load(\"es_core_news_md\")\n",
        "\n",
        "texto = \"Ecopetrol anunció en Bogotá un acuerdo con Repsol para explorar yacimientos en Meta.\"\n",
        "\n",
        "doc = nlp(texto)\n",
        "\n",
        "# ---- NER: entidades detectadas\n",
        "entidades = [(ent.text, ent.label_) for ent in doc.ents]\n",
        "print(\"ENTIDADES (texto, etiqueta):\")\n",
        "for e in entidades:\n",
        "    print(\" -\", e)\n",
        "\n",
        "# Mapa simple de etiquetas spaCy → categorías que usamos en el ejemplo\n",
        "mapa = {\"ORG\": \"Organización\", \"LOC\": \"Ubicación\", \"PER\": \"Persona\", \"MISC\": \"Mención\"}\n",
        "print(\"\\nENTIDADES (normalizadas):\")\n",
        "for ent in doc.ents:\n",
        "    print(f\" - {ent.text} → {mapa.get(ent.label_, ent.label_)}\")\n",
        "\n",
        "# ---- Reglas mínimas para extraer relaciones del ejemplo\n",
        "# Idea:\n",
        "#  - Sujeto organizacional de un verbo (nsubj) → posible actor (Ecopetrol)\n",
        "#  - Sustantivo \"acuerdo\" → núcleo del evento\n",
        "#  - prep 'con' desde \"acuerdo\" → contraparte (Repsol)\n",
        "#  - prep 'en' desde el verbo principal o desde \"acuerdo\" → ubicación (Bogotá)\n",
        "#  - prep 'para' desde \"acuerdo\" → objetivo (verbo + objeto), y si hay 'en' anidado → ubicación de la acción (Meta)\n",
        "\n",
        "def buscar_token(doc, lemma=None, lower_text=None, pos=None):\n",
        "    for t in doc:\n",
        "        if lemma and t.lemma_.lower() != lemma.lower():\n",
        "            continue\n",
        "        if lower_text and t.text.lower() != lower_text.lower():\n",
        "            continue\n",
        "        if pos and t.pos_ != pos:\n",
        "            continue\n",
        "        return t\n",
        "    return None\n",
        "\n",
        "# verbo principal (heurístico: primer VERB con sujeto)\n",
        "verbo = None\n",
        "for t in doc:\n",
        "    if t.pos_ == \"VERB\" and any(c.dep == nsubj for c in t.children):\n",
        "        verbo = t\n",
        "        break\n",
        "\n",
        "# sujeto organizacional\n",
        "sujeto_org = None\n",
        "if verbo:\n",
        "    for c in verbo.children:\n",
        "        if c.dep == nsubj:\n",
        "            # comprobar si intersecta con una entidad ORG\n",
        "            for ent in doc.ents:\n",
        "                if ent.label_ == \"ORG\" and c.i >= ent.start and c.i < ent.end:\n",
        "                    sujeto_org = ent.text\n",
        "                    break\n",
        "\n",
        "# \"acuerdo\"\n",
        "acuerdo = buscar_token(doc, lemma=\"acuerdo\", pos=\"NOUN\")\n",
        "\n",
        "# contraparte con 'con'\n",
        "contraparte = None\n",
        "ubicacion_acuerdo = None\n",
        "objetivo = None\n",
        "ubicacion_objetivo = None\n",
        "\n",
        "if acuerdo:\n",
        "    for child in acuerdo.children:\n",
        "        if child.dep_ == \"case\" and child.text.lower() == \"con\":\n",
        "            # head del 'con' es el complemento (spaCy español: el 'con' suele ser hijo del complemento con dep 'case')\n",
        "            obj_con = child.head\n",
        "            # verificar si es parte de una entidad ORG\n",
        "            for ent in doc.ents:\n",
        "                if ent.label_ == \"ORG\" and obj_con.i >= ent.start and obj_con.i < ent.end:\n",
        "                    contraparte = ent.text\n",
        "                    break\n",
        "        if child.dep_ == \"mark\" and child.text.lower() == \"para\":\n",
        "            # objetivo: buscar hijo verbal \"explorar\" y su objeto\n",
        "            for cc in acuerdo.children:\n",
        "                if cc.pos_ == \"VERB\":\n",
        "                    # construir objetivo básico: verbo + objeto\n",
        "                    objeto = None\n",
        "                    for cc2 in cc.children:\n",
        "                        if cc2.dep_ in (\"obj\", \"dobj\", \"obl\") or cc2.dep_ == \"nmod\":\n",
        "                            # tomar la frase completa del objeto\n",
        "                            span = doc[cc2.left_edge.i:cc2.right_edge.i+1]\n",
        "                            objeto = span.text\n",
        "                        # hallar 'en' (ubicación del objetivo), si existe\n",
        "                        if cc2.dep_ == \"case\" and cc2.text.lower() == \"en\":\n",
        "                            ubj = cc2.head\n",
        "                            ubicacion_objetivo = ubj.text\n",
        "                    objetivo = (cc.lemma_, objeto)\n",
        "\n",
        "# ubicación a partir del verbo principal ('en Bogotá')\n",
        "ubicacion_evento = None\n",
        "if verbo:\n",
        "    for tok in verbo.subtree:\n",
        "        # si hay una entidad LOC dentro del subárbol con 'en' previo\n",
        "        if tok.text.lower() == \"en\":\n",
        "            loc = tok.head\n",
        "            # si el head es un nombre propio/locación:\n",
        "            for ent in doc.ents:\n",
        "                if ent.label_ in (\"LOC\", \"GPE\") and loc.i >= ent.start and loc.i < ent.end:\n",
        "                    ubicacion_evento = ent.text\n",
        "\n",
        "# ---- Salida de relaciones (estilo tabla)\n",
        "relaciones = []\n",
        "\n",
        "if sujeto_org and contraparte:\n",
        "    relaciones.append((sujeto_org, \"acuerdo con\", contraparte))\n",
        "if ubicacion_evento:\n",
        "    relaciones.append((\"Acuerdo\", \"ubicación\", ubicacion_evento))\n",
        "if objetivo:\n",
        "    verbo_obj, objeto_obj = objetivo\n",
        "    if objeto_obj:\n",
        "        relaciones.append((\"Acuerdo\", \"objetivo\", f\"{verbo_obj} {objeto_obj}\"))\n",
        "    if ubicacion_objetivo:\n",
        "        relaciones.append((\"Objetivo\", \"ubicación\", ubicacion_objetivo))\n",
        "\n",
        "print(\"\\nRELACIONES:\")\n",
        "for r in relaciones:\n",
        "    print(f\" - {r[0]} → {r[1]} → {r[2]}\")"
      ]
    },
    {
      "cell_type": "markdown",
      "source": [
        "**Nota:** esta EI por reglas es deliberadamente simple para fines didácticos. En producción, conviene entrenar un modelo de extracción de relaciones (supervisado o instruction-tuned) y/o usar pattern matchers más robustos (por ejemplo, spacy.matcher/DependencyMatcher) y normalización de entidades."
      ],
      "metadata": {
        "id": "vXGKeYvT_PT9"
      }
    }
  ]
}