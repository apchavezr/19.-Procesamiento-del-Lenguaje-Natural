{
  "cells": [
    {
      "cell_type": "markdown",
      "metadata": {
        "id": "view-in-github",
        "colab_type": "text"
      },
      "source": [
        "<a href=\"https://colab.research.google.com/github/apchavezr/19.-Procesamiento-del-Lenguaje-Natural/blob/main/RF_Noticias_ES.ipynb\" target=\"_parent\"><img src=\"https://colab.research.google.com/assets/colab-badge.svg\" alt=\"Open In Colab\"/></a>"
      ]
    },
    {
      "cell_type": "markdown",
      "metadata": {
        "id": "XE40YO3_ZLi_"
      },
      "source": [
        "\n",
        "# Ejemplo 3. Categorización de noticias con Random Forest (español)\n",
        "\n",
        "**Objetivo:** clasificar artículos periodísticos en **deportes**, **política** y **cultura** usando **TF-IDF** y **RandomForestClassifier**.  \n",
        "Se entrenará un modelo, se evaluará con métricas estándar y se visualizará la matriz de confusión y la importancia de términos.\n"
      ],
      "id": "XE40YO3_ZLi_"
    },
    {
      "cell_type": "markdown",
      "metadata": {
        "id": "gs3hP5ftZLjC"
      },
      "source": [
        "\n",
        "## contenidos y resultados de aprendizaje\n",
        "1. crear un mini dataset sintético (tres categorías).\n",
        "2. dividir en *train/test* estratificado.\n",
        "3. construir un *pipeline* `TfidfVectorizer` + `RandomForestClassifier`.\n",
        "4. entrenar y evaluar con: **accuracy**, **precision**, **recall**, **F1**.\n",
        "5. visualizar **matriz de confusión** (matplotlib).\n",
        "6. analizar **importancia de características** (términos con mayor aporte).\n",
        "7. ejercicios guiados (n-gramas, `n_estimators`, `max_depth`, balance de clases).\n"
      ],
      "id": "gs3hP5ftZLjC"
    },
    {
      "cell_type": "code",
      "metadata": {
        "id": "QqfnZ0joZLjC"
      },
      "execution_count": 1,
      "outputs": [],
      "source": [
        "\n",
        "# En Colab: descomente si necesita instalar\n",
        "# !pip install scikit-learn pandas matplotlib --quiet\n",
        "\n",
        "import numpy as np\n",
        "import pandas as pd\n",
        "import matplotlib.pyplot as plt\n",
        "\n",
        "from sklearn.model_selection import train_test_split\n",
        "from sklearn.feature_extraction.text import TfidfVectorizer\n",
        "from sklearn.pipeline import Pipeline\n",
        "from sklearn.ensemble import RandomForestClassifier\n",
        "from sklearn.metrics import classification_report, confusion_matrix, accuracy_score\n"
      ],
      "id": "QqfnZ0joZLjC"
    },
    {
      "cell_type": "markdown",
      "metadata": {
        "id": "m-5kPj5GZLjD"
      },
      "source": [
        "\n",
        "## 1. crear el dataset sintético\n",
        "\n",
        "Noticias cortas y representativas para **deportes**, **política** y **cultura**. Puede editar o ampliar.\n"
      ],
      "id": "m-5kPj5GZLjD"
    },
    {
      "cell_type": "code",
      "metadata": {
        "colab": {
          "base_uri": "https://localhost:8080/",
          "height": 237
        },
        "id": "8ymWc6w-ZLjD",
        "outputId": "5086f8f8-2dfb-4d31-dfdc-d71c364fb146"
      },
      "execution_count": 2,
      "outputs": [
        {
          "output_type": "execute_result",
          "data": {
            "text/plain": [
              "                                                texto  etiqueta\n",
              "2    el jugador anunció su traspaso a un club europeo  deportes\n",
              "28    un ciclo de poesía convocó a jóvenes escritores   cultura\n",
              "13  el congreso aprobó el presupuesto para el próx...  política\n",
              "10  el gobierno anunció reformas en el sistema de ...  política\n",
              "26  el director presentó su nueva película en cart...   cultura\n",
              "24    la feria del libro reunió a reconocidos autores   cultura"
            ],
            "text/html": [
              "\n",
              "  <div id=\"df-74b030fd-9504-4921-b61c-fa34d6ee26b1\" class=\"colab-df-container\">\n",
              "    <div>\n",
              "<style scoped>\n",
              "    .dataframe tbody tr th:only-of-type {\n",
              "        vertical-align: middle;\n",
              "    }\n",
              "\n",
              "    .dataframe tbody tr th {\n",
              "        vertical-align: top;\n",
              "    }\n",
              "\n",
              "    .dataframe thead th {\n",
              "        text-align: right;\n",
              "    }\n",
              "</style>\n",
              "<table border=\"1\" class=\"dataframe\">\n",
              "  <thead>\n",
              "    <tr style=\"text-align: right;\">\n",
              "      <th></th>\n",
              "      <th>texto</th>\n",
              "      <th>etiqueta</th>\n",
              "    </tr>\n",
              "  </thead>\n",
              "  <tbody>\n",
              "    <tr>\n",
              "      <th>2</th>\n",
              "      <td>el jugador anunció su traspaso a un club europeo</td>\n",
              "      <td>deportes</td>\n",
              "    </tr>\n",
              "    <tr>\n",
              "      <th>28</th>\n",
              "      <td>un ciclo de poesía convocó a jóvenes escritores</td>\n",
              "      <td>cultura</td>\n",
              "    </tr>\n",
              "    <tr>\n",
              "      <th>13</th>\n",
              "      <td>el congreso aprobó el presupuesto para el próx...</td>\n",
              "      <td>política</td>\n",
              "    </tr>\n",
              "    <tr>\n",
              "      <th>10</th>\n",
              "      <td>el gobierno anunció reformas en el sistema de ...</td>\n",
              "      <td>política</td>\n",
              "    </tr>\n",
              "    <tr>\n",
              "      <th>26</th>\n",
              "      <td>el director presentó su nueva película en cart...</td>\n",
              "      <td>cultura</td>\n",
              "    </tr>\n",
              "    <tr>\n",
              "      <th>24</th>\n",
              "      <td>la feria del libro reunió a reconocidos autores</td>\n",
              "      <td>cultura</td>\n",
              "    </tr>\n",
              "  </tbody>\n",
              "</table>\n",
              "</div>\n",
              "    <div class=\"colab-df-buttons\">\n",
              "\n",
              "  <div class=\"colab-df-container\">\n",
              "    <button class=\"colab-df-convert\" onclick=\"convertToInteractive('df-74b030fd-9504-4921-b61c-fa34d6ee26b1')\"\n",
              "            title=\"Convert this dataframe to an interactive table.\"\n",
              "            style=\"display:none;\">\n",
              "\n",
              "  <svg xmlns=\"http://www.w3.org/2000/svg\" height=\"24px\" viewBox=\"0 -960 960 960\">\n",
              "    <path d=\"M120-120v-720h720v720H120Zm60-500h600v-160H180v160Zm220 220h160v-160H400v160Zm0 220h160v-160H400v160ZM180-400h160v-160H180v160Zm440 0h160v-160H620v160ZM180-180h160v-160H180v160Zm440 0h160v-160H620v160Z\"/>\n",
              "  </svg>\n",
              "    </button>\n",
              "\n",
              "  <style>\n",
              "    .colab-df-container {\n",
              "      display:flex;\n",
              "      gap: 12px;\n",
              "    }\n",
              "\n",
              "    .colab-df-convert {\n",
              "      background-color: #E8F0FE;\n",
              "      border: none;\n",
              "      border-radius: 50%;\n",
              "      cursor: pointer;\n",
              "      display: none;\n",
              "      fill: #1967D2;\n",
              "      height: 32px;\n",
              "      padding: 0 0 0 0;\n",
              "      width: 32px;\n",
              "    }\n",
              "\n",
              "    .colab-df-convert:hover {\n",
              "      background-color: #E2EBFA;\n",
              "      box-shadow: 0px 1px 2px rgba(60, 64, 67, 0.3), 0px 1px 3px 1px rgba(60, 64, 67, 0.15);\n",
              "      fill: #174EA6;\n",
              "    }\n",
              "\n",
              "    .colab-df-buttons div {\n",
              "      margin-bottom: 4px;\n",
              "    }\n",
              "\n",
              "    [theme=dark] .colab-df-convert {\n",
              "      background-color: #3B4455;\n",
              "      fill: #D2E3FC;\n",
              "    }\n",
              "\n",
              "    [theme=dark] .colab-df-convert:hover {\n",
              "      background-color: #434B5C;\n",
              "      box-shadow: 0px 1px 3px 1px rgba(0, 0, 0, 0.15);\n",
              "      filter: drop-shadow(0px 1px 2px rgba(0, 0, 0, 0.3));\n",
              "      fill: #FFFFFF;\n",
              "    }\n",
              "  </style>\n",
              "\n",
              "    <script>\n",
              "      const buttonEl =\n",
              "        document.querySelector('#df-74b030fd-9504-4921-b61c-fa34d6ee26b1 button.colab-df-convert');\n",
              "      buttonEl.style.display =\n",
              "        google.colab.kernel.accessAllowed ? 'block' : 'none';\n",
              "\n",
              "      async function convertToInteractive(key) {\n",
              "        const element = document.querySelector('#df-74b030fd-9504-4921-b61c-fa34d6ee26b1');\n",
              "        const dataTable =\n",
              "          await google.colab.kernel.invokeFunction('convertToInteractive',\n",
              "                                                    [key], {});\n",
              "        if (!dataTable) return;\n",
              "\n",
              "        const docLinkHtml = 'Like what you see? Visit the ' +\n",
              "          '<a target=\"_blank\" href=https://colab.research.google.com/notebooks/data_table.ipynb>data table notebook</a>'\n",
              "          + ' to learn more about interactive tables.';\n",
              "        element.innerHTML = '';\n",
              "        dataTable['output_type'] = 'display_data';\n",
              "        await google.colab.output.renderOutput(dataTable, element);\n",
              "        const docLink = document.createElement('div');\n",
              "        docLink.innerHTML = docLinkHtml;\n",
              "        element.appendChild(docLink);\n",
              "      }\n",
              "    </script>\n",
              "  </div>\n",
              "\n",
              "\n",
              "    <div id=\"df-7bf711df-27f5-40a5-b557-02807e9d52c8\">\n",
              "      <button class=\"colab-df-quickchart\" onclick=\"quickchart('df-7bf711df-27f5-40a5-b557-02807e9d52c8')\"\n",
              "                title=\"Suggest charts\"\n",
              "                style=\"display:none;\">\n",
              "\n",
              "<svg xmlns=\"http://www.w3.org/2000/svg\" height=\"24px\"viewBox=\"0 0 24 24\"\n",
              "     width=\"24px\">\n",
              "    <g>\n",
              "        <path d=\"M19 3H5c-1.1 0-2 .9-2 2v14c0 1.1.9 2 2 2h14c1.1 0 2-.9 2-2V5c0-1.1-.9-2-2-2zM9 17H7v-7h2v7zm4 0h-2V7h2v10zm4 0h-2v-4h2v4z\"/>\n",
              "    </g>\n",
              "</svg>\n",
              "      </button>\n",
              "\n",
              "<style>\n",
              "  .colab-df-quickchart {\n",
              "      --bg-color: #E8F0FE;\n",
              "      --fill-color: #1967D2;\n",
              "      --hover-bg-color: #E2EBFA;\n",
              "      --hover-fill-color: #174EA6;\n",
              "      --disabled-fill-color: #AAA;\n",
              "      --disabled-bg-color: #DDD;\n",
              "  }\n",
              "\n",
              "  [theme=dark] .colab-df-quickchart {\n",
              "      --bg-color: #3B4455;\n",
              "      --fill-color: #D2E3FC;\n",
              "      --hover-bg-color: #434B5C;\n",
              "      --hover-fill-color: #FFFFFF;\n",
              "      --disabled-bg-color: #3B4455;\n",
              "      --disabled-fill-color: #666;\n",
              "  }\n",
              "\n",
              "  .colab-df-quickchart {\n",
              "    background-color: var(--bg-color);\n",
              "    border: none;\n",
              "    border-radius: 50%;\n",
              "    cursor: pointer;\n",
              "    display: none;\n",
              "    fill: var(--fill-color);\n",
              "    height: 32px;\n",
              "    padding: 0;\n",
              "    width: 32px;\n",
              "  }\n",
              "\n",
              "  .colab-df-quickchart:hover {\n",
              "    background-color: var(--hover-bg-color);\n",
              "    box-shadow: 0 1px 2px rgba(60, 64, 67, 0.3), 0 1px 3px 1px rgba(60, 64, 67, 0.15);\n",
              "    fill: var(--button-hover-fill-color);\n",
              "  }\n",
              "\n",
              "  .colab-df-quickchart-complete:disabled,\n",
              "  .colab-df-quickchart-complete:disabled:hover {\n",
              "    background-color: var(--disabled-bg-color);\n",
              "    fill: var(--disabled-fill-color);\n",
              "    box-shadow: none;\n",
              "  }\n",
              "\n",
              "  .colab-df-spinner {\n",
              "    border: 2px solid var(--fill-color);\n",
              "    border-color: transparent;\n",
              "    border-bottom-color: var(--fill-color);\n",
              "    animation:\n",
              "      spin 1s steps(1) infinite;\n",
              "  }\n",
              "\n",
              "  @keyframes spin {\n",
              "    0% {\n",
              "      border-color: transparent;\n",
              "      border-bottom-color: var(--fill-color);\n",
              "      border-left-color: var(--fill-color);\n",
              "    }\n",
              "    20% {\n",
              "      border-color: transparent;\n",
              "      border-left-color: var(--fill-color);\n",
              "      border-top-color: var(--fill-color);\n",
              "    }\n",
              "    30% {\n",
              "      border-color: transparent;\n",
              "      border-left-color: var(--fill-color);\n",
              "      border-top-color: var(--fill-color);\n",
              "      border-right-color: var(--fill-color);\n",
              "    }\n",
              "    40% {\n",
              "      border-color: transparent;\n",
              "      border-right-color: var(--fill-color);\n",
              "      border-top-color: var(--fill-color);\n",
              "    }\n",
              "    60% {\n",
              "      border-color: transparent;\n",
              "      border-right-color: var(--fill-color);\n",
              "    }\n",
              "    80% {\n",
              "      border-color: transparent;\n",
              "      border-right-color: var(--fill-color);\n",
              "      border-bottom-color: var(--fill-color);\n",
              "    }\n",
              "    90% {\n",
              "      border-color: transparent;\n",
              "      border-bottom-color: var(--fill-color);\n",
              "    }\n",
              "  }\n",
              "</style>\n",
              "\n",
              "      <script>\n",
              "        async function quickchart(key) {\n",
              "          const quickchartButtonEl =\n",
              "            document.querySelector('#' + key + ' button');\n",
              "          quickchartButtonEl.disabled = true;  // To prevent multiple clicks.\n",
              "          quickchartButtonEl.classList.add('colab-df-spinner');\n",
              "          try {\n",
              "            const charts = await google.colab.kernel.invokeFunction(\n",
              "                'suggestCharts', [key], {});\n",
              "          } catch (error) {\n",
              "            console.error('Error during call to suggestCharts:', error);\n",
              "          }\n",
              "          quickchartButtonEl.classList.remove('colab-df-spinner');\n",
              "          quickchartButtonEl.classList.add('colab-df-quickchart-complete');\n",
              "        }\n",
              "        (() => {\n",
              "          let quickchartButtonEl =\n",
              "            document.querySelector('#df-7bf711df-27f5-40a5-b557-02807e9d52c8 button');\n",
              "          quickchartButtonEl.style.display =\n",
              "            google.colab.kernel.accessAllowed ? 'block' : 'none';\n",
              "        })();\n",
              "      </script>\n",
              "    </div>\n",
              "\n",
              "    </div>\n",
              "  </div>\n"
            ],
            "application/vnd.google.colaboratory.intrinsic+json": {
              "type": "dataframe",
              "summary": "{\n  \"name\": \"df\",\n  \"rows\": 6,\n  \"fields\": [\n    {\n      \"column\": \"texto\",\n      \"properties\": {\n        \"dtype\": \"string\",\n        \"num_unique_values\": 6,\n        \"samples\": [\n          \"el jugador anunci\\u00f3 su traspaso a un club europeo\",\n          \"un ciclo de poes\\u00eda convoc\\u00f3 a j\\u00f3venes escritores\",\n          \"la feria del libro reuni\\u00f3 a reconocidos autores\"\n        ],\n        \"semantic_type\": \"\",\n        \"description\": \"\"\n      }\n    },\n    {\n      \"column\": \"etiqueta\",\n      \"properties\": {\n        \"dtype\": \"string\",\n        \"num_unique_values\": 3,\n        \"samples\": [\n          \"deportes\",\n          \"cultura\",\n          \"pol\\u00edtica\"\n        ],\n        \"semantic_type\": \"\",\n        \"description\": \"\"\n      }\n    }\n  ]\n}"
            }
          },
          "metadata": {},
          "execution_count": 2
        }
      ],
      "source": [
        "\n",
        "deportes = [\n",
        "    \"la selección colombiana ganó el partido en barranquilla\",\n",
        "    \"el equipo consiguió un gol en los últimos minutos\",\n",
        "    \"el jugador anunció su traspaso a un club europeo\",\n",
        "    \"gran victoria en el torneo nacional de fútbol\",\n",
        "    \"el entrenador presentó la convocatoria para la copa\",\n",
        "    \"el atleta batió el récord en la competencia\",\n",
        "    \"el árbitro expulsó a dos jugadores por falta\",\n",
        "    \"el club presentó su nueva camiseta oficial\",\n",
        "    \"el clásico terminó en empate sin goles\",\n",
        "    \"la liga reprogramó la jornada por lluvia\",\n",
        "]\n",
        "\n",
        "politica = [\n",
        "    \"el gobierno anunció reformas en el sistema de salud\",\n",
        "    \"las elecciones legislativas registraron alta participación\",\n",
        "    \"el partido presentó un proyecto de ley sobre educación\",\n",
        "    \"el congreso aprobó el presupuesto para el próximo año\",\n",
        "    \"la alcaldía firmó convenios de cooperación internacional\",\n",
        "    \"el ministro explicó la estrategia de seguridad ciudadana\",\n",
        "    \"la oposición criticó la gestión del gabinete\",\n",
        "    \"el tribunal constitucional revisará la demanda\",\n",
        "    \"la campaña electoral enfocó su mensaje en empleo\",\n",
        "    \"el senado debatió la política pública de vivienda\",\n",
        "]\n",
        "\n",
        "cultura = [\n",
        "    \"el museo inauguró una exposición de arte contemporáneo\",\n",
        "    \"la obra de teatro recibió excelentes críticas\",\n",
        "    \"el festival de cine presentó estrenos latinoamericanos\",\n",
        "    \"un concierto sinfónico cautivó al público en el teatro\",\n",
        "    \"la feria del libro reunió a reconocidos autores\",\n",
        "    \"la compañía de danza estrenó una coreografía innovadora\",\n",
        "    \"el director presentó su nueva película en cartelera\",\n",
        "    \"la galería anunció una subasta de arte moderno\",\n",
        "    \"un ciclo de poesía convocó a jóvenes escritores\",\n",
        "    \"la orquesta interpretó piezas de compositores clásicos\",\n",
        "]\n",
        "\n",
        "df = pd.DataFrame({\n",
        "    \"texto\": deportes + politica + cultura,\n",
        "    \"etiqueta\": [\"deportes\"] * len(deportes) + [\"política\"] * len(politica) + [\"cultura\"] * len(cultura)\n",
        "})\n",
        "df.sample(6, random_state=0)\n"
      ],
      "id": "8ymWc6w-ZLjD"
    },
    {
      "cell_type": "markdown",
      "metadata": {
        "id": "fLHWuovRZLjF"
      },
      "source": [
        "\n",
        "## 2. partición entrenamiento/prueba (estratificada)\n"
      ],
      "id": "fLHWuovRZLjF"
    },
    {
      "cell_type": "code",
      "metadata": {
        "colab": {
          "base_uri": "https://localhost:8080/"
        },
        "id": "PhB94DeZZLjF",
        "outputId": "4b22c469-ebd3-478d-905c-5f6ba88f08fa"
      },
      "execution_count": 3,
      "outputs": [
        {
          "output_type": "execute_result",
          "data": {
            "text/plain": [
              "(21,\n",
              " 9,\n",
              " etiqueta\n",
              " política    7\n",
              " cultura     7\n",
              " deportes    7\n",
              " Name: count, dtype: int64,\n",
              " etiqueta\n",
              " cultura     3\n",
              " política    3\n",
              " deportes    3\n",
              " Name: count, dtype: int64)"
            ]
          },
          "metadata": {},
          "execution_count": 3
        }
      ],
      "source": [
        "\n",
        "X_train, X_test, y_train, y_test = train_test_split(\n",
        "    df[\"texto\"],\n",
        "    df[\"etiqueta\"],\n",
        "    test_size=0.3,\n",
        "    random_state=42,\n",
        "    stratify=df[\"etiqueta\"]\n",
        ")\n",
        "len(X_train), len(X_test), y_train.value_counts(), y_test.value_counts()\n"
      ],
      "id": "PhB94DeZZLjF"
    },
    {
      "cell_type": "markdown",
      "metadata": {
        "id": "Uw_cpu22ZLjF"
      },
      "source": [
        "\n",
        "## 3. pipeline TF-IDF + RandomForestClassifier\n",
        "\n",
        "Hiperparámetros iniciales: `n_estimators=200`, `max_depth=None`, `random_state=42`.  \n",
        "Puede ajustarlos en los ejercicios para observar el efecto en las métricas.\n"
      ],
      "id": "Uw_cpu22ZLjF"
    },
    {
      "cell_type": "code",
      "metadata": {
        "id": "A1ukRgD6ZLjF"
      },
      "execution_count": 4,
      "outputs": [],
      "source": [
        "\n",
        "pipe = Pipeline([\n",
        "    (\"tfidf\", TfidfVectorizer(ngram_range=(1,2))),\n",
        "    (\"clf\", RandomForestClassifier(n_estimators=200, max_depth=None, random_state=42, n_jobs=-1))\n",
        "])\n"
      ],
      "id": "A1ukRgD6ZLjF"
    },
    {
      "cell_type": "markdown",
      "metadata": {
        "id": "sjDi9LHdZLjH"
      },
      "source": [
        "\n",
        "## 4. entrenamiento y evaluación\n"
      ],
      "id": "sjDi9LHdZLjH"
    },
    {
      "cell_type": "code",
      "metadata": {
        "colab": {
          "base_uri": "https://localhost:8080/"
        },
        "id": "evsSsVyPZLjH",
        "outputId": "9df8c715-97ed-4293-b1a5-796bda1b2589"
      },
      "execution_count": 6,
      "outputs": [
        {
          "output_type": "stream",
          "name": "stdout",
          "text": [
            "Accuracy: 0.333\n",
            "\n",
            "Matriz de confusión (filas=verdad, columnas=predicción):\n",
            "          deportes  política  cultura\n",
            "deportes         1         2        0\n",
            "política         0         2        1\n",
            "cultura          2         1        0\n",
            "\n",
            "Reporte de clasificación:\n",
            "              precision    recall  f1-score   support\n",
            "\n",
            "    deportes       0.00      0.00      0.00         3\n",
            "    política       0.33      0.33      0.33         3\n",
            "     cultura       0.40      0.67      0.50         3\n",
            "\n",
            "    accuracy                           0.33         9\n",
            "   macro avg       0.24      0.33      0.28         9\n",
            "weighted avg       0.24      0.33      0.28         9\n",
            "\n"
          ]
        }
      ],
      "source": [
        "\n",
        "pipe.fit(X_train, y_train)\n",
        "preds = pipe.predict(X_test)\n",
        "\n",
        "acc = accuracy_score(y_test, preds)\n",
        "cm = confusion_matrix(y_test, preds, labels=[\"deportes\",\"política\",\"cultura\"])\n",
        "print(\"Accuracy:\", round(acc, 3))\n",
        "print(\"\\nMatriz de confusión (filas=verdad, columnas=predicción):\")\n",
        "print(pd.DataFrame(cm, index=[\"deportes\",\"política\",\"cultura\"], columns=[\"deportes\",\"política\",\"cultura\"]))\n",
        "\n",
        "print(\"\\nReporte de clasificación:\")\n",
        "print(classification_report(y_test, preds, target_names=[\"deportes\",\"política\",\"cultura\"]))\n"
      ],
      "id": "evsSsVyPZLjH"
    },
    {
      "cell_type": "markdown",
      "metadata": {
        "id": "5DT9ZHM2ZLjH"
      },
      "source": [
        "\n",
        "## 5. visualización de la matriz de confusión\n"
      ],
      "id": "5DT9ZHM2ZLjH"
    },
    {
      "cell_type": "code",
      "metadata": {
        "colab": {
          "base_uri": "https://localhost:8080/",
          "height": 307
        },
        "id": "DBbcGNmxZLjH",
        "outputId": "8ff27811-fc02-4d74-9b3d-a78794f714d9"
      },
      "execution_count": 7,
      "outputs": [
        {
          "output_type": "display_data",
          "data": {
            "text/plain": [
              "<Figure size 400x300 with 1 Axes>"
            ],
            "image/png": "[encoded data removed]"
          },
          "metadata": {}
        }
      ],
      "source": [
        "\n",
        "fig = plt.figure(figsize=(4,3))\n",
        "plt.imshow(cm, interpolation='nearest')\n",
        "plt.title(\"Matriz de confusión\")\n",
        "plt.xticks([0,1,2], [\"deportes\",\"política\",\"cultura\"])\n",
        "plt.yticks([0,1,2], [\"deportes\",\"política\",\"cultura\"])\n",
        "for i in range(cm.shape[0]):\n",
        "    for j in range(cm.shape[1]):\n",
        "        plt.text(j, i, str(cm[i, j]), ha=\"center\", va=\"center\")\n",
        "plt.xlabel(\"Predicción\")\n",
        "plt.ylabel(\"Real\")\n",
        "plt.tight_layout()\n",
        "plt.show()\n"
      ],
      "id": "DBbcGNmxZLjH"
    },
    {
      "cell_type": "markdown",
      "metadata": {
        "id": "cjplnBPGZLjI"
      },
      "source": [
        "\n",
        "## 6. importancia de características (términos)\n",
        "\n",
        "Se examinan los términos con mayor **importancia** global según el bosque aleatorio.\n"
      ],
      "id": "cjplnBPGZLjI"
    },
    {
      "cell_type": "code",
      "metadata": {
        "colab": {
          "base_uri": "https://localhost:8080/"
        },
        "id": "87vMa4o_ZLjI",
        "outputId": "997ef88c-7551-4335-8040-54ed31feb174"
      },
      "execution_count": 8,
      "outputs": [
        {
          "output_type": "stream",
          "name": "stdout",
          "text": [
            "de                                  0.096492\n",
            "en                                  0.071854\n",
            "el                                  0.065828\n",
            "una                                 0.023564\n",
            "la                                  0.017941\n",
            "de arte                             0.013085\n",
            "su                                  0.009976\n",
            "presentó                            0.009804\n",
            "estrenos latinoamericanos           0.008189\n",
            "consiguió                           0.006991\n",
            "camiseta oficial                    0.006635\n",
            "su nueva                            0.00634\n",
            "para el                             0.006226\n",
            "festival de                         0.006166\n",
            "nueva camiseta                      0.006138\n",
            "criticó la                          0.006019\n",
            "gobierno                            0.005966\n",
            "para                                0.005888\n",
            "un                                  0.005851\n",
            "el récord                           0.005761\n"
          ]
        }
      ],
      "source": [
        "\n",
        "# Extraer vectorizador y clasificador entrenados\n",
        "vectorizer = pipe.named_steps[\"tfidf\"]\n",
        "clf = pipe.named_steps[\"clf\"]\n",
        "feature_names = vectorizer.get_feature_names_out()\n",
        "importancias = clf.feature_importances_\n",
        "\n",
        "# Top términos globales\n",
        "idx_top = importancias.argsort()[-20:][::-1]\n",
        "top_terms = [(feature_names[i], round(importancias[i], 6)) for i in idx_top]\n",
        "for t, v in top_terms:\n",
        "    print(f\"{t:35s} {v}\")\n"
      ],
      "id": "87vMa4o_ZLjI"
    },
    {
      "cell_type": "markdown",
      "metadata": {
        "id": "Y7anNdAqZLjI"
      },
      "source": [
        "\n",
        "## 7. predicciones sobre nuevas noticias\n"
      ],
      "id": "Y7anNdAqZLjI"
    },
    {
      "cell_type": "code",
      "metadata": {
        "colab": {
          "base_uri": "https://localhost:8080/"
        },
        "id": "q3kaRFLfZLjI",
        "outputId": "9e422799-2599-4733-a65d-7c6cbc448dc4"
      },
      "execution_count": 9,
      "outputs": [
        {
          "output_type": "stream",
          "name": "stdout",
          "text": [
            "- la selección ganó el campeonato con dos goles -> deportes\n",
            "- el congreso debatió la reforma política -> política\n",
            "- el museo presentó una retrospectiva del artista -> cultura\n",
            "- jugadores y entrenador hablaron del clásico bogotano -> política\n",
            "- la campaña prometió mejorar el sistema de transporte -> cultura\n"
          ]
        }
      ],
      "source": [
        "\n",
        "nuevos = [\n",
        "    \"la selección ganó el campeonato con dos goles\",\n",
        "    \"el congreso debatió la reforma política\",\n",
        "    \"el museo presentó una retrospectiva del artista\",\n",
        "    \"jugadores y entrenador hablaron del clásico bogotano\",\n",
        "    \"la campaña prometió mejorar el sistema de transporte\"\n",
        "]\n",
        "for t in nuevos:\n",
        "    print(f\"- {t} -> {pipe.predict([t])[0]}\")\n"
      ],
      "id": "q3kaRFLfZLjI"
    },
    {
      "cell_type": "markdown",
      "metadata": {
        "id": "EZglFhuQZLjI"
      },
      "source": [
        "\n",
        "## 8. ejercicios guiados\n",
        "\n",
        "1. **n-gramas:** cambie `ngram_range=(1,2)` por `(1,1)` y luego `(1,3)`. Compare métricas.\n",
        "2. **árboles:** pruebe `n_estimators=100`, `300` y `500`. Observe el tiempo de entrenamiento y el *accuracy*.\n",
        "3. **profundidad:** limite `max_depth` a `10`, `20` y `30`. Analice sobreajuste vs. generalización.\n",
        "4. **balance:** si desbalancea el corpus (p. ej., más noticias de política), evalúe `class_weight=\"balanced\"`.\n",
        "5. **palabras clave:** añada términos más específicos por categoría (p. ej., “tarjeta roja”, “cámara de representantes”, “bienal”). ¿Mejora el rendimiento?\n",
        "6. **temas cercanos:** integre una cuarta clase (p. ej., *economía*) y verifique confusiones con política.\n"
      ],
      "id": "EZglFhuQZLjI"
    }
  ],
  "metadata": {
    "kernelspec": {
      "display_name": "Python 3",
      "language": "python",
      "name": "python3"
    },
    "language_info": {
      "name": "python",
      "mimetype": "text/x-python",
      "file_extension": ".py",
      "pygments_lexer": "ipython3"
    },
    "colab": {
      "provenance": [],
      "include_colab_link": true
    }
  },
  "nbformat": 4,
  "nbformat_minor": 5
}