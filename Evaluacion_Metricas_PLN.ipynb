{
  "cells": [
    {
      "cell_type": "markdown",
      "metadata": {
        "id": "view-in-github",
        "colab_type": "text"
      },
      "source": [
        "<a href=\"https://colab.research.google.com/github/apchavezr/19.-Procesamiento-del-Lenguaje-Natural/blob/main/Evaluacion_Metricas_PLN.ipynb\" target=\"_parent\"><img src=\"https://colab.research.google.com/assets/colab-badge.svg\" alt=\"Open In Colab\"/></a>"
      ]
    },
    {
      "cell_type": "markdown",
      "metadata": {
        "id": "LkOGwCi0b00T"
      },
      "source": [
        "\n",
        "# Ejemplo 4. evaluación de modelos con métricas estándar (PLN)\n",
        "\n",
        "**Objetivo:** calcular e interpretar **precisión (precision)**, **recall**, **F1-score** y la **matriz de confusión** en un problema de clasificación binaria de reseñas (positiva/negativa).  \n",
        "Este notebook usa un *dataset* simulado y está pensado para practicar la **interpretación** de las métricas más allá del *accuracy*.\n"
      ],
      "id": "LkOGwCi0b00T"
    },
    {
      "cell_type": "markdown",
      "metadata": {
        "id": "ln64NZU5b00W"
      },
      "source": [
        "\n",
        "## 1. contexto y dataset simulado\n",
        "\n",
        "Se simulan 12 reseñas de productos con sus **etiquetas reales** y las **predicciones** de un modelo.  \n",
        "El propósito es aprender a interpretar las métricas, no entrenar el clasificador.\n"
      ],
      "id": "ln64NZU5b00W"
    },
    {
      "cell_type": "code",
      "metadata": {
        "colab": {
          "base_uri": "https://localhost:8080/"
        },
        "id": "3APIarqob00W",
        "outputId": "34de023d-b871-4229-c4f5-a1d6aea15249"
      },
      "execution_count": 1,
      "outputs": [
        {
          "output_type": "execute_result",
          "data": {
            "text/plain": [
              "(12, 12)"
            ]
          },
          "metadata": {},
          "execution_count": 1
        }
      ],
      "source": [
        "\n",
        "# etiquetas reales y predicciones del modelo\n",
        "y_true = [\"positiva\",\"positiva\",\"negativa\",\"positiva\",\"negativa\",\"negativa\",\n",
        "          \"positiva\",\"negativa\",\"positiva\",\"negativa\",\"positiva\",\"negativa\"]\n",
        "\n",
        "y_pred = [\"positiva\",\"negativa\",\"negativa\",\"positiva\",\"positiva\",\"negativa\",\n",
        "          \"positiva\",\"negativa\",\"positiva\",\"negativa\",\"negativa\",\"negativa\"]\n",
        "\n",
        "len(y_true), len(y_pred)  # verificación de tamaños\n"
      ],
      "id": "3APIarqob00W"
    },
    {
      "cell_type": "markdown",
      "metadata": {
        "id": "UdAA_DG8b00X"
      },
      "source": [
        "\n",
        "## 2. cálculo de métricas (precision, recall, F1) y matriz de confusión\n",
        "\n",
        "Por defecto, se evalúa la clase **positiva** como clase de interés (`pos_label=\"positiva\"`).  \n",
        "Luego, en los ejercicios, podrá cambiar esta referencia o agregar una clase *neutra*.\n"
      ],
      "id": "UdAA_DG8b00X"
    },
    {
      "cell_type": "code",
      "metadata": {
        "colab": {
          "base_uri": "https://localhost:8080/"
        },
        "id": "nzNah576b00Y",
        "outputId": "aa43f54c-ef40-40e9-af39-77d12ee632c3"
      },
      "execution_count": 2,
      "outputs": [
        {
          "output_type": "stream",
          "name": "stdout",
          "text": [
            "Precisión (pos_label='positiva'): 0.8\n",
            "Recall    (pos_label='positiva'): 0.67\n",
            "F1-score  (pos_label='positiva'): 0.73\n",
            "\n",
            "Matriz de confusión:\n",
            "               pred_positiva  pred_negativa\n",
            "real_positiva              4              2\n",
            "real_negativa              1              5\n",
            "\n",
            "Reporte de clasificación:\n",
            "              precision    recall  f1-score   support\n",
            "\n",
            "    positiva       0.71      0.83      0.77         6\n",
            "    negativa       0.80      0.67      0.73         6\n",
            "\n",
            "    accuracy                           0.75        12\n",
            "   macro avg       0.76      0.75      0.75        12\n",
            "weighted avg       0.76      0.75      0.75        12\n",
            "\n"
          ]
        }
      ],
      "source": [
        "\n",
        "from sklearn.metrics import precision_score, recall_score, f1_score, confusion_matrix, classification_report\n",
        "import pandas as pd\n",
        "\n",
        "pos_label = \"positiva\"\n",
        "\n",
        "precision = precision_score(y_true, y_pred, pos_label=pos_label)\n",
        "recall = recall_score(y_true, y_pred, pos_label=pos_label)\n",
        "f1 = f1_score(y_true, y_pred, pos_label=pos_label)\n",
        "\n",
        "print(f\"Precisión ({pos_label=}):\", round(precision, 2))\n",
        "print(f\"Recall    ({pos_label=}):\", round(recall, 2))\n",
        "print(f\"F1-score  ({pos_label=}):\", round(f1, 2))\n",
        "\n",
        "# matriz de confusión (orden explícito de etiquetas)\n",
        "labels = [\"positiva\",\"negativa\"]\n",
        "cm = confusion_matrix(y_true, y_pred, labels=labels)\n",
        "df_cm = pd.DataFrame(cm, index=[f\"real_{l}\" for l in labels], columns=[f\"pred_{l}\" for l in labels])\n",
        "print(\"\\nMatriz de confusión:\")\n",
        "print(df_cm)\n",
        "\n",
        "print(\"\\nReporte de clasificación:\")\n",
        "print(classification_report(y_true, y_pred, target_names=labels))\n"
      ],
      "id": "nzNah576b00Y"
    },
    {
      "cell_type": "markdown",
      "metadata": {
        "id": "E9iPXTl2b00Y"
      },
      "source": [
        "\n",
        "## 3. visualización de la matriz de confusión\n",
        "\n",
        "Se grafica la matriz para identificar de forma visual **verdaderos** y **falsos** positivos/negativos.  \n",
        "> Nota: no se define un esquema de color específico (uso por defecto de matplotlib).\n"
      ],
      "id": "E9iPXTl2b00Y"
    },
    {
      "cell_type": "code",
      "metadata": {
        "colab": {
          "base_uri": "https://localhost:8080/",
          "height": 307
        },
        "id": "-almCSrIb00Y",
        "outputId": "393e8443-3b67-40be-81ff-0b4222c5e35c"
      },
      "execution_count": 20,
      "outputs": [
        {
          "output_type": "display_data",
          "data": {
            "text/plain": [
              "<Figure size 400x300 with 1 Axes>"
            ],
            "image/png": "[encoded data removed]"
          },
          "metadata": {}
        }
      ],
      "source": [
        "\n",
        "import matplotlib.pyplot as plt\n",
        "\n",
        "fig = plt.figure(figsize=(4,3))\n",
        "plt.imshow(cm, interpolation='nearest')\n",
        "plt.title(\"Matriz de confusión\")\n",
        "plt.xticks([0,1], [\"positiva\",\"negativa\"])\n",
        "plt.yticks([0,1], [\"positiva\",\"negativa\"])\n",
        "for i in range(cm.shape[0]):\n",
        "    for j in range(cm.shape[1]):\n",
        "        plt.text(j, i, str(cm[i, j]), ha=\"center\", va=\"center\")\n",
        "plt.xlabel(\"Predicción\")\n",
        "plt.ylabel(\"Real\")\n",
        "plt.tight_layout()\n",
        "plt.show()\n"
      ],
      "id": "-almCSrIb00Y"
    },
    {
      "cell_type": "markdown",
      "metadata": {
        "id": "gR10SVy2b00Z"
      },
      "source": [
        "\n",
        "## 4. función para experimentar con otra clase positiva o nuevos datos\n",
        "\n",
        "Use `evaluar(y_true, y_pred, pos_label)` para recalcular métricas y la matriz de confusión con otros arreglos o cambiando la clase positiva.\n"
      ],
      "id": "gR10SVy2b00Z"
    },
    {
      "cell_type": "code",
      "metadata": {
        "id": "3Uyoy8mVb00Z"
      },
      "execution_count": 19,
      "outputs": [],
      "source": [
        "\n",
        "def evaluar(y_true, y_pred, pos_label=\"positive\"):\n",
        "    from sklearn.metrics import precision_score, recall_score, f1_score, confusion_matrix, classification_report\n",
        "    import pandas as pd\n",
        "    import matplotlib.pyplot as plt\n",
        "\n",
        "    precision = precision_score(y_true, y_pred, pos_label=pos_label, zero_division=0)\n",
        "    recall = recall_score(y_true, y_pred, pos_label=pos_label, zero_division=0)\n",
        "    f1 = f1_score(y_true, y_pred, pos_label=pos_label, zero_division=0)\n",
        "\n",
        "    print(f\"=== Evaluación (pos_label='{pos_label}') ===\")\n",
        "    print(\"Precisión:\", round(precision, 3))\n",
        "    print(\"Recall   :\", round(recall, 3))\n",
        "    print(\"F1-score :\", round(f1, 3))\n",
        "\n",
        "    etiquetas = sorted(list(set(y_true) | set(y_pred)))\n",
        "    cm = confusion_matrix(y_true, y_pred, labels=etiquetas)\n",
        "    print(\"\\nMatriz de confusión (orden dinámico de etiquetas):\")\n",
        "    print(pd.DataFrame(cm, index=[f\"real_{l}\" for l in etiquetas], columns=[f\"pred_{l}\" for l in etiquetas]))\n",
        "\n",
        "    print(\"\\nReporte de clasificación:\")\n",
        "    print(classification_report(y_true, y_pred, zero_division=0))\n",
        "\n",
        "    # Visualización\n",
        "    fig = plt.figure(figsize=(4,3))\n",
        "    plt.imshow(cm, interpolation='nearest')\n",
        "    plt.title(\"Matriz de confusión\")\n",
        "    plt.xticks(range(len(etiquetas)), etiquetas)\n",
        "    plt.yticks(range(len(etiquetas)), etiquetas)\n",
        "    for i in range(cm.shape[0]):\n",
        "        for j in range(cm.shape[1]):\n",
        "            plt.text(j, i, str(cm[i, j]), ha=\"center\", va=\"center\")\n",
        "    plt.xlabel(\"Predicción\")\n",
        "    plt.ylabel(\"Real\")\n",
        "    plt.tight_layout()\n",
        "    plt.show()\n",
        "\n",
        "# ejemplo de uso:\n",
        "# evaluar(y_true, y_pred, pos_label=\"negativa\")\n"
      ],
      "id": "3Uyoy8mVb00Z"
    },
    {
      "cell_type": "markdown",
      "metadata": {
        "id": "-GKloKOVb00Z"
      },
      "source": [
        "\n",
        "## 5. ejercicios guiados\n",
        "\n",
        "1. **Cambie la clase positiva de interés:** ejecute `evaluar(y_true, y_pred, pos_label=\"negativa\")` y compare con la salida por defecto.\n",
        "2. **Agregue clase *neutra*:** defina nuevos arreglos con etiquetas `[\"positiva\",\"negativa\",\"neutra\"]` (tanto en *y_true* como en *y_pred*) y ejecute `evaluar(...)`. Observe cómo cambia la matriz y el reporte.\n",
        "3. **Costo de errores:** proponga un caso donde los **falsos positivos** sean más costosos (p. ej., *spam*) y otro donde los **falsos negativos** sean más críticos (p. ej., *fraude*). Explique por qué elegiría optimizar **precisión** o **recall** en cada caso.\n",
        "4. **Promedios en multiclase:** si añade *neutra*, calcule `precision_score(..., average=\"macro\")` y `average=\"weighted\"` para comparar con las métricas por clase.\n",
        "5. **Desbalance:** duplique los casos *negativos* en `y_true` y mantenga `y_pred`. ¿Qué ocurre con *accuracy* y con las métricas por clase?\n"
      ],
      "id": "-GKloKOVb00Z"
    }
  ],
  "metadata": {
    "kernelspec": {
      "display_name": "Python 3",
      "language": "python",
      "name": "python3"
    },
    "language_info": {
      "name": "python",
      "mimetype": "text/x-python",
      "file_extension": ".py",
      "pygments_lexer": "ipython3"
    },
    "colab": {
      "provenance": [],
      "include_colab_link": true
    }
  },
  "nbformat": 4,
  "nbformat_minor": 5
}