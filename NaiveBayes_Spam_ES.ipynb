{
  "cells": [
    {
      "cell_type": "markdown",
      "metadata": {
        "id": "view-in-github",
        "colab_type": "text"
      },
      "source": [
        "<a href=\"https://colab.research.google.com/github/apchavezr/19.-Procesamiento-del-Lenguaje-Natural/blob/main/NaiveBayes_Spam_ES.ipynb\" target=\"_parent\"><img src=\"https://colab.research.google.com/assets/colab-badge.svg\" alt=\"Open In Colab\"/></a>"
      ]
    },
    {
      "cell_type": "markdown",
      "metadata": {
        "id": "LmeerI-fPYAr"
      },
      "source": [
        "\n",
        "# laboratorio: clasificación de spam con Naive Bayes (español)\n",
        "\n",
        "**Objetivo:** entrenar y evaluar un clasificador de correos *spam* vs *no_spam* usando **Multinomial Naive Bayes** con **TF‑IDF**, comparar con/sin *stopwords*, interpretar métricas y probar con mensajes nuevos.\n",
        "\n",
        "**Requisitos:** Python 3.9+, scikit-learn, pandas, numpy, matplotlib.\n",
        "\n",
        "> Este notebook fue generado automáticamente para práctica docente. Puede modificar el dataset y repetir los experimentos.\n"
      ],
      "id": "LmeerI-fPYAr"
    },
    {
      "cell_type": "markdown",
      "metadata": {
        "id": "NhlsWrE4PYAt"
      },
      "source": [
        "\n",
        "## contenidos y resultados de aprendizaje\n",
        "\n",
        "1. crear un mini dataset sintético (10 spam y 10 no_spam).\n",
        "2. dividir en *train/test* estratificado.\n",
        "3. construir *pipelines* con `TfidfVectorizer` + `MultinomialNB`.\n",
        "4. entrenar dos variantes: **con** y **sin** *stopwords* personalizadas.\n",
        "5. evaluar con **accuracy**, **precision**, **recall**, **F1** y **matriz de confusión**.\n",
        "6. predecir correos nuevos y analizar errores.\n",
        "7. ejercicios guiados para experimentar con n‑gramas y *stopwords*.\n"
      ],
      "id": "NhlsWrE4PYAt"
    },
    {
      "cell_type": "code",
      "metadata": {
        "id": "fIxQtX1FPYAu"
      },
      "execution_count": 1,
      "outputs": [],
      "source": [
        "\n",
        "# instalar dependencias si hace falta (en Colab se puede usar pip)\n",
        "# !pip install scikit-learn pandas matplotlib --quiet\n",
        "\n",
        "import os\n",
        "import numpy as np\n",
        "import pandas as pd\n",
        "from sklearn.model_selection import train_test_split\n",
        "from sklearn.feature_extraction.text import TfidfVectorizer\n",
        "from sklearn.naive_bayes import MultinomialNB\n",
        "from sklearn.pipeline import Pipeline\n",
        "from sklearn.metrics import classification_report, confusion_matrix, accuracy_score\n",
        "import matplotlib.pyplot as plt\n"
      ],
      "id": "fIxQtX1FPYAu"
    },
    {
      "cell_type": "markdown",
      "metadata": {
        "id": "n_tIalY7PYA1"
      },
      "source": [
        "\n",
        "## 1. crear el dataset sintético\n",
        "\n",
        "El dataset contiene 20 correos (10 spam y 10 no_spam). Modifique los textos para acercarlos a su contexto.\n"
      ],
      "id": "n_tIalY7PYA1"
    },
    {
      "cell_type": "code",
      "metadata": {
        "colab": {
          "base_uri": "https://localhost:8080/",
          "height": 206
        },
        "id": "E56tJxGaPYA2",
        "outputId": "64ee682e-5fc5-4c5e-cf04-6ac06cbe2fb0"
      },
      "execution_count": 2,
      "outputs": [
        {
          "output_type": "execute_result",
          "data": {
            "text/plain": [
              "                                                texto etiqueta\n",
              "18  comparto la agenda de la semana con los pendie...  no_spam\n",
              "1   oferta limitada: crédito aprobado sin revisar ...     spam\n",
              "19  nota: el proveedor confirmó el despacho para e...  no_spam\n",
              "8   evita cargos: actualiza tu cuenta bancaria urg...     spam\n",
              "10         reunión confirmada para mañana a las 10 am  no_spam"
            ],
            "text/html": [
              "\n",
              "  <div id=\"df-6447dd31-5c7d-4366-b426-194f8705eae7\" class=\"colab-df-container\">\n",
              "    <div>\n",
              "<style scoped>\n",
              "    .dataframe tbody tr th:only-of-type {\n",
              "        vertical-align: middle;\n",
              "    }\n",
              "\n",
              "    .dataframe tbody tr th {\n",
              "        vertical-align: top;\n",
              "    }\n",
              "\n",
              "    .dataframe thead th {\n",
              "        text-align: right;\n",
              "    }\n",
              "</style>\n",
              "<table border=\"1\" class=\"dataframe\">\n",
              "  <thead>\n",
              "    <tr style=\"text-align: right;\">\n",
              "      <th></th>\n",
              "      <th>texto</th>\n",
              "      <th>etiqueta</th>\n",
              "    </tr>\n",
              "  </thead>\n",
              "  <tbody>\n",
              "    <tr>\n",
              "      <th>18</th>\n",
              "      <td>comparto la agenda de la semana con los pendie...</td>\n",
              "      <td>no_spam</td>\n",
              "    </tr>\n",
              "    <tr>\n",
              "      <th>1</th>\n",
              "      <td>oferta limitada: crédito aprobado sin revisar ...</td>\n",
              "      <td>spam</td>\n",
              "    </tr>\n",
              "    <tr>\n",
              "      <th>19</th>\n",
              "      <td>nota: el proveedor confirmó el despacho para e...</td>\n",
              "      <td>no_spam</td>\n",
              "    </tr>\n",
              "    <tr>\n",
              "      <th>8</th>\n",
              "      <td>evita cargos: actualiza tu cuenta bancaria urg...</td>\n",
              "      <td>spam</td>\n",
              "    </tr>\n",
              "    <tr>\n",
              "      <th>10</th>\n",
              "      <td>reunión confirmada para mañana a las 10 am</td>\n",
              "      <td>no_spam</td>\n",
              "    </tr>\n",
              "  </tbody>\n",
              "</table>\n",
              "</div>\n",
              "    <div class=\"colab-df-buttons\">\n",
              "\n",
              "  <div class=\"colab-df-container\">\n",
              "    <button class=\"colab-df-convert\" onclick=\"convertToInteractive('df-6447dd31-5c7d-4366-b426-194f8705eae7')\"\n",
              "            title=\"Convert this dataframe to an interactive table.\"\n",
              "            style=\"display:none;\">\n",
              "\n",
              "  <svg xmlns=\"http://www.w3.org/2000/svg\" height=\"24px\" viewBox=\"0 -960 960 960\">\n",
              "    <path d=\"M120-120v-720h720v720H120Zm60-500h600v-160H180v160Zm220 220h160v-160H400v160Zm0 220h160v-160H400v160ZM180-400h160v-160H180v160Zm440 0h160v-160H620v160ZM180-180h160v-160H180v160Zm440 0h160v-160H620v160Z\"/>\n",
              "  </svg>\n",
              "    </button>\n",
              "\n",
              "  <style>\n",
              "    .colab-df-container {\n",
              "      display:flex;\n",
              "      gap: 12px;\n",
              "    }\n",
              "\n",
              "    .colab-df-convert {\n",
              "      background-color: #E8F0FE;\n",
              "      border: none;\n",
              "      border-radius: 50%;\n",
              "      cursor: pointer;\n",
              "      display: none;\n",
              "      fill: #1967D2;\n",
              "      height: 32px;\n",
              "      padding: 0 0 0 0;\n",
              "      width: 32px;\n",
              "    }\n",
              "\n",
              "    .colab-df-convert:hover {\n",
              "      background-color: #E2EBFA;\n",
              "      box-shadow: 0px 1px 2px rgba(60, 64, 67, 0.3), 0px 1px 3px 1px rgba(60, 64, 67, 0.15);\n",
              "      fill: #174EA6;\n",
              "    }\n",
              "\n",
              "    .colab-df-buttons div {\n",
              "      margin-bottom: 4px;\n",
              "    }\n",
              "\n",
              "    [theme=dark] .colab-df-convert {\n",
              "      background-color: #3B4455;\n",
              "      fill: #D2E3FC;\n",
              "    }\n",
              "\n",
              "    [theme=dark] .colab-df-convert:hover {\n",
              "      background-color: #434B5C;\n",
              "      box-shadow: 0px 1px 3px 1px rgba(0, 0, 0, 0.15);\n",
              "      filter: drop-shadow(0px 1px 2px rgba(0, 0, 0, 0.3));\n",
              "      fill: #FFFFFF;\n",
              "    }\n",
              "  </style>\n",
              "\n",
              "    <script>\n",
              "      const buttonEl =\n",
              "        document.querySelector('#df-6447dd31-5c7d-4366-b426-194f8705eae7 button.colab-df-convert');\n",
              "      buttonEl.style.display =\n",
              "        google.colab.kernel.accessAllowed ? 'block' : 'none';\n",
              "\n",
              "      async function convertToInteractive(key) {\n",
              "        const element = document.querySelector('#df-6447dd31-5c7d-4366-b426-194f8705eae7');\n",
              "        const dataTable =\n",
              "          await google.colab.kernel.invokeFunction('convertToInteractive',\n",
              "                                                    [key], {});\n",
              "        if (!dataTable) return;\n",
              "\n",
              "        const docLinkHtml = 'Like what you see? Visit the ' +\n",
              "          '<a target=\"_blank\" href=https://colab.research.google.com/notebooks/data_table.ipynb>data table notebook</a>'\n",
              "          + ' to learn more about interactive tables.';\n",
              "        element.innerHTML = '';\n",
              "        dataTable['output_type'] = 'display_data';\n",
              "        await google.colab.output.renderOutput(dataTable, element);\n",
              "        const docLink = document.createElement('div');\n",
              "        docLink.innerHTML = docLinkHtml;\n",
              "        element.appendChild(docLink);\n",
              "      }\n",
              "    </script>\n",
              "  </div>\n",
              "\n",
              "\n",
              "    <div id=\"df-c1dc609f-d382-490e-9f05-5a0bfa551876\">\n",
              "      <button class=\"colab-df-quickchart\" onclick=\"quickchart('df-c1dc609f-d382-490e-9f05-5a0bfa551876')\"\n",
              "                title=\"Suggest charts\"\n",
              "                style=\"display:none;\">\n",
              "\n",
              "<svg xmlns=\"http://www.w3.org/2000/svg\" height=\"24px\"viewBox=\"0 0 24 24\"\n",
              "     width=\"24px\">\n",
              "    <g>\n",
              "        <path d=\"M19 3H5c-1.1 0-2 .9-2 2v14c0 1.1.9 2 2 2h14c1.1 0 2-.9 2-2V5c0-1.1-.9-2-2-2zM9 17H7v-7h2v7zm4 0h-2V7h2v10zm4 0h-2v-4h2v4z\"/>\n",
              "    </g>\n",
              "</svg>\n",
              "      </button>\n",
              "\n",
              "<style>\n",
              "  .colab-df-quickchart {\n",
              "      --bg-color: #E8F0FE;\n",
              "      --fill-color: #1967D2;\n",
              "      --hover-bg-color: #E2EBFA;\n",
              "      --hover-fill-color: #174EA6;\n",
              "      --disabled-fill-color: #AAA;\n",
              "      --disabled-bg-color: #DDD;\n",
              "  }\n",
              "\n",
              "  [theme=dark] .colab-df-quickchart {\n",
              "      --bg-color: #3B4455;\n",
              "      --fill-color: #D2E3FC;\n",
              "      --hover-bg-color: #434B5C;\n",
              "      --hover-fill-color: #FFFFFF;\n",
              "      --disabled-bg-color: #3B4455;\n",
              "      --disabled-fill-color: #666;\n",
              "  }\n",
              "\n",
              "  .colab-df-quickchart {\n",
              "    background-color: var(--bg-color);\n",
              "    border: none;\n",
              "    border-radius: 50%;\n",
              "    cursor: pointer;\n",
              "    display: none;\n",
              "    fill: var(--fill-color);\n",
              "    height: 32px;\n",
              "    padding: 0;\n",
              "    width: 32px;\n",
              "  }\n",
              "\n",
              "  .colab-df-quickchart:hover {\n",
              "    background-color: var(--hover-bg-color);\n",
              "    box-shadow: 0 1px 2px rgba(60, 64, 67, 0.3), 0 1px 3px 1px rgba(60, 64, 67, 0.15);\n",
              "    fill: var(--button-hover-fill-color);\n",
              "  }\n",
              "\n",
              "  .colab-df-quickchart-complete:disabled,\n",
              "  .colab-df-quickchart-complete:disabled:hover {\n",
              "    background-color: var(--disabled-bg-color);\n",
              "    fill: var(--disabled-fill-color);\n",
              "    box-shadow: none;\n",
              "  }\n",
              "\n",
              "  .colab-df-spinner {\n",
              "    border: 2px solid var(--fill-color);\n",
              "    border-color: transparent;\n",
              "    border-bottom-color: var(--fill-color);\n",
              "    animation:\n",
              "      spin 1s steps(1) infinite;\n",
              "  }\n",
              "\n",
              "  @keyframes spin {\n",
              "    0% {\n",
              "      border-color: transparent;\n",
              "      border-bottom-color: var(--fill-color);\n",
              "      border-left-color: var(--fill-color);\n",
              "    }\n",
              "    20% {\n",
              "      border-color: transparent;\n",
              "      border-left-color: var(--fill-color);\n",
              "      border-top-color: var(--fill-color);\n",
              "    }\n",
              "    30% {\n",
              "      border-color: transparent;\n",
              "      border-left-color: var(--fill-color);\n",
              "      border-top-color: var(--fill-color);\n",
              "      border-right-color: var(--fill-color);\n",
              "    }\n",
              "    40% {\n",
              "      border-color: transparent;\n",
              "      border-right-color: var(--fill-color);\n",
              "      border-top-color: var(--fill-color);\n",
              "    }\n",
              "    60% {\n",
              "      border-color: transparent;\n",
              "      border-right-color: var(--fill-color);\n",
              "    }\n",
              "    80% {\n",
              "      border-color: transparent;\n",
              "      border-right-color: var(--fill-color);\n",
              "      border-bottom-color: var(--fill-color);\n",
              "    }\n",
              "    90% {\n",
              "      border-color: transparent;\n",
              "      border-bottom-color: var(--fill-color);\n",
              "    }\n",
              "  }\n",
              "</style>\n",
              "\n",
              "      <script>\n",
              "        async function quickchart(key) {\n",
              "          const quickchartButtonEl =\n",
              "            document.querySelector('#' + key + ' button');\n",
              "          quickchartButtonEl.disabled = true;  // To prevent multiple clicks.\n",
              "          quickchartButtonEl.classList.add('colab-df-spinner');\n",
              "          try {\n",
              "            const charts = await google.colab.kernel.invokeFunction(\n",
              "                'suggestCharts', [key], {});\n",
              "          } catch (error) {\n",
              "            console.error('Error during call to suggestCharts:', error);\n",
              "          }\n",
              "          quickchartButtonEl.classList.remove('colab-df-spinner');\n",
              "          quickchartButtonEl.classList.add('colab-df-quickchart-complete');\n",
              "        }\n",
              "        (() => {\n",
              "          let quickchartButtonEl =\n",
              "            document.querySelector('#df-c1dc609f-d382-490e-9f05-5a0bfa551876 button');\n",
              "          quickchartButtonEl.style.display =\n",
              "            google.colab.kernel.accessAllowed ? 'block' : 'none';\n",
              "        })();\n",
              "      </script>\n",
              "    </div>\n",
              "\n",
              "    </div>\n",
              "  </div>\n"
            ],
            "application/vnd.google.colaboratory.intrinsic+json": {
              "type": "dataframe",
              "summary": "{\n  \"name\": \"df\",\n  \"rows\": 5,\n  \"fields\": [\n    {\n      \"column\": \"texto\",\n      \"properties\": {\n        \"dtype\": \"string\",\n        \"num_unique_values\": 5,\n        \"samples\": [\n          \"oferta limitada: cr\\u00e9dito aprobado sin revisar historial\",\n          \"reuni\\u00f3n confirmada para ma\\u00f1ana a las 10 am\",\n          \"nota: el proveedor confirm\\u00f3 el despacho para el martes\"\n        ],\n        \"semantic_type\": \"\",\n        \"description\": \"\"\n      }\n    },\n    {\n      \"column\": \"etiqueta\",\n      \"properties\": {\n        \"dtype\": \"category\",\n        \"num_unique_values\": 2,\n        \"samples\": [\n          \"spam\",\n          \"no_spam\"\n        ],\n        \"semantic_type\": \"\",\n        \"description\": \"\"\n      }\n    }\n  ]\n}"
            }
          },
          "metadata": {},
          "execution_count": 2
        }
      ],
      "source": [
        "\n",
        "spam_texts = [\n",
        "    \"gana dinero rápido con esta promoción exclusiva hoy\",\n",
        "    \"oferta limitada: crédito aprobado sin revisar historial\",\n",
        "    \"haz clic aquí para reclamar tu premio urgente\",\n",
        "    \"último aviso: transfiere ahora y duplica tu inversión\",\n",
        "    \"promoción especial de préstamos inmediatos sin interés\",\n",
        "    \"recibe un bono gratis registrándote en este enlace\",\n",
        "    \"felicitaciones, has sido seleccionado para un premio exclusivo\",\n",
        "    \"compra ahora y obtén un cupón de descuento del 80 por ciento\",\n",
        "    \"evita cargos: actualiza tu cuenta bancaria urgente\",\n",
        "    \"trabajo desde casa: ingresos garantizados sin experiencia\",\n",
        "]\n",
        "\n",
        "ham_texts = [\n",
        "    \"reunión confirmada para mañana a las 10 am\",\n",
        "    \"adjunto el informe de ventas del mes pasado\",\n",
        "    \"recordatorio: clase de análisis de datos a las 6 pm\",\n",
        "    \"la entrega del proyecto se movió para el viernes\",\n",
        "    \"gracias por su ayuda con el reporte financiero\",\n",
        "    \"favor revisar el borrador y enviar comentarios\",\n",
        "    \"hoy tendremos mantenimiento de la plataforma\",\n",
        "    \"¿puede confirmar la disponibilidad de la sala?\",\n",
        "    \"comparto la agenda de la semana con los pendientes\",\n",
        "    \"nota: el proveedor confirmó el despacho para el martes\",\n",
        "]\n",
        "\n",
        "df = pd.DataFrame({\n",
        "    \"texto\": spam_texts + ham_texts,\n",
        "    \"etiqueta\": [\"spam\"] * len(spam_texts) + [\"no_spam\"] * len(ham_texts)\n",
        "})\n",
        "df.sample(5, random_state=0)  # vista rápida\n"
      ],
      "id": "E56tJxGaPYA2"
    },
    {
      "cell_type": "markdown",
      "metadata": {
        "id": "N1BvBdn5PYA2"
      },
      "source": [
        "\n",
        "## 2. partición entrenamiento/prueba\n",
        "\n",
        "Se usa estratificación para mantener el balance de clases en ambos subconjuntos.\n"
      ],
      "id": "N1BvBdn5PYA2"
    },
    {
      "cell_type": "code",
      "metadata": {
        "colab": {
          "base_uri": "https://localhost:8080/"
        },
        "id": "898KUYmcPYA3",
        "outputId": "3f6eea20-b31c-49ad-a068-32cc344ab976"
      },
      "execution_count": 3,
      "outputs": [
        {
          "output_type": "execute_result",
          "data": {
            "text/plain": [
              "(14,\n",
              " 6,\n",
              " etiqueta\n",
              " spam       7\n",
              " no_spam    7\n",
              " Name: count, dtype: int64,\n",
              " etiqueta\n",
              " no_spam    3\n",
              " spam       3\n",
              " Name: count, dtype: int64)"
            ]
          },
          "metadata": {},
          "execution_count": 3
        }
      ],
      "source": [
        "\n",
        "X_train, X_test, y_train, y_test = train_test_split(\n",
        "    df[\"texto\"],\n",
        "    df[\"etiqueta\"],\n",
        "    test_size=0.3,\n",
        "    random_state=42,\n",
        "    stratify=df[\"etiqueta\"]\n",
        ")\n",
        "\n",
        "len(X_train), len(X_test), y_train.value_counts(), y_test.value_counts()\n"
      ],
      "id": "898KUYmcPYA3"
    },
    {
      "cell_type": "markdown",
      "metadata": {
        "id": "-l4vOoKCPYA3"
      },
      "source": [
        "\n",
        "## 3. *stopwords* personalizadas (español)\n",
        "\n",
        "Para ilustrar el consejo didáctico, se incluye una lista básica de palabras de alta frecuencia. Añada o quite términos y observe el impacto.\n"
      ],
      "id": "-l4vOoKCPYA3"
    },
    {
      "cell_type": "code",
      "metadata": {
        "id": "6HM5NPJJPYA3"
      },
      "execution_count": 4,
      "outputs": [],
      "source": [
        "\n",
        "spanish_custom = [\n",
        "    \"el\",\"la\",\"los\",\"las\",\"un\",\"una\",\"unos\",\"unas\",\"de\",\"del\",\"al\",\n",
        "    \"a\",\"y\",\"o\",\"u\",\"que\",\"como\",\"en\",\"por\",\"para\",\"con\",\"sin\",\"su\",\n",
        "    \"sus\",\"es\",\"son\",\"fue\",\"ser\",\"se\",\"ya\",\"no\",\"si\",\"sí\",\"lo\",\"le\",\n",
        "    \"les\",\"esto\",\"esta\",\"estas\",\"estos\",\"eso\",\"esa\",\"esas\",\"esos\",\n",
        "    \"mi\",\"mis\",\"tu\",\"tus\",\"nuestro\",\"nuestra\",\"nuestros\",\"nuestras\",\n",
        "    \"hoy\",\"mañana\",\"ayer\",\"muy\",\"más\",\"menos\",\"también\",\"pero\",\"porque\",\n",
        "    \"donde\",\"cuando\",\"quien\",\"quién\",\"cual\",\"cuál\",\"cuales\",\"cuáles\"\n",
        "]\n"
      ],
      "id": "6HM5NPJJPYA3"
    },
    {
      "cell_type": "markdown",
      "metadata": {
        "id": "e30PLwyYPYA4"
      },
      "source": [
        "\n",
        "## 4. *pipelines* (TF‑IDF + MultinomialNB)\n",
        "\n",
        "Se construyen dos variantes para comparar:  \n",
        "- **con_stop**: TF‑IDF con *stopwords* personalizadas y bigramas.  \n",
        "- **sin_stop**: TF‑IDF sin *stopwords* y con bigramas.\n"
      ],
      "id": "e30PLwyYPYA4"
    },
    {
      "cell_type": "code",
      "metadata": {
        "id": "GWcGd0ZTPYA4"
      },
      "execution_count": 5,
      "outputs": [],
      "source": [
        "\n",
        "pipe_con_stop = Pipeline([\n",
        "    (\"tfidf\", TfidfVectorizer(stop_words=spanish_custom, ngram_range=(1,2))),\n",
        "    (\"nb\", MultinomialNB())\n",
        "])\n",
        "\n",
        "pipe_sin_stop = Pipeline([\n",
        "    (\"tfidf\", TfidfVectorizer(ngram_range=(1,2))),\n",
        "    (\"nb\", MultinomialNB())\n",
        "])\n"
      ],
      "id": "GWcGd0ZTPYA4"
    },
    {
      "cell_type": "markdown",
      "metadata": {
        "id": "J4P9_hREPYBF"
      },
      "source": [
        "\n",
        "## 5. entrenamiento y evaluación\n",
        "\n",
        "Se imprimen **accuracy**, **matriz de confusión** y **reporte de clasificación** para cada variante.\n"
      ],
      "id": "J4P9_hREPYBF"
    },
    {
      "cell_type": "code",
      "metadata": {
        "colab": {
          "base_uri": "https://localhost:8080/"
        },
        "id": "kI8AIiSUPYBG",
        "outputId": "b679d8c0-b295-4819-e484-a15664d3818a"
      },
      "execution_count": 6,
      "outputs": [
        {
          "output_type": "stream",
          "name": "stdout",
          "text": [
            "================================================================================\n",
            "Modelo: Naive Bayes + TF-IDF con stopwords + bigramas\n",
            "Accuracy: 0.667\n",
            "Matriz de confusión (filas=verdad, columnas=predicción):\n",
            "         spam  no_spam\n",
            "spam        1        2\n",
            "no_spam     0        3\n",
            "\n",
            "Reporte de clasificación:\n",
            "               precision    recall  f1-score   support\n",
            "\n",
            "        spam       0.60      1.00      0.75         3\n",
            "     no_spam       1.00      0.33      0.50         3\n",
            "\n",
            "    accuracy                           0.67         6\n",
            "   macro avg       0.80      0.67      0.62         6\n",
            "weighted avg       0.80      0.67      0.62         6\n",
            "\n",
            "================================================================================\n",
            "Modelo: Naive Bayes + TF-IDF sin stopwords + bigramas\n",
            "Accuracy: 0.833\n",
            "Matriz de confusión (filas=verdad, columnas=predicción):\n",
            "         spam  no_spam\n",
            "spam        2        1\n",
            "no_spam     0        3\n",
            "\n",
            "Reporte de clasificación:\n",
            "               precision    recall  f1-score   support\n",
            "\n",
            "        spam       0.75      1.00      0.86         3\n",
            "     no_spam       1.00      0.67      0.80         3\n",
            "\n",
            "    accuracy                           0.83         6\n",
            "   macro avg       0.88      0.83      0.83         6\n",
            "weighted avg       0.88      0.83      0.83         6\n",
            "\n"
          ]
        }
      ],
      "source": [
        "\n",
        "def entrenar_y_evaluar(pipe, nombre):\n",
        "    pipe.fit(X_train, y_train)\n",
        "    preds = pipe.predict(X_test)\n",
        "    acc = accuracy_score(y_test, preds)\n",
        "    cm = confusion_matrix(y_test, preds, labels=[\"spam\",\"no_spam\"])\n",
        "    print(\"=\"*80)\n",
        "    print(f\"Modelo: {nombre}\")\n",
        "    print(f\"Accuracy: {acc:.3f}\")\n",
        "    print(\"Matriz de confusión (filas=verdad, columnas=predicción):\")\n",
        "    print(pd.DataFrame(cm, index=[\"spam\",\"no_spam\"], columns=[\"spam\",\"no_spam\"]))\n",
        "    print(\"\\nReporte de clasificación:\\n\", classification_report(y_test, preds, target_names=[\"spam\",\"no_spam\"]))\n",
        "    return pipe, preds, cm, acc\n",
        "\n",
        "modelo_con_stop, preds1, cm1, acc1 = entrenar_y_evaluar(pipe_con_stop, \"Naive Bayes + TF-IDF con stopwords + bigramas\")\n",
        "modelo_sin_stop, preds2, cm2, acc2 = entrenar_y_evaluar(pipe_sin_stop, \"Naive Bayes + TF-IDF sin stopwords + bigramas\")\n"
      ],
      "id": "kI8AIiSUPYBG"
    },
    {
      "cell_type": "markdown",
      "metadata": {
        "id": "5jYbNJZKPYBG"
      },
      "source": [
        "\n",
        "## 6. visualización de la matriz de confusión\n",
        "\n",
        "Se grafica la matriz de confusión del mejor modelo (por *accuracy*). No se especifican colores explícitos.\n"
      ],
      "id": "5jYbNJZKPYBG"
    },
    {
      "cell_type": "code",
      "metadata": {
        "colab": {
          "base_uri": "https://localhost:8080/",
          "height": 307
        },
        "id": "E68YV2rTPYBG",
        "outputId": "c8a2a600-9ca2-4691-9ebc-602eef929ede"
      },
      "execution_count": 7,
      "outputs": [
        {
          "output_type": "display_data",
          "data": {
            "text/plain": [
              "<Figure size 400x300 with 1 Axes>"
            ],
            "image/png": "[encoded data removed]"
          },
          "metadata": {}
        }
      ],
      "source": [
        "\n",
        "best_cm = cm1 if acc1 >= acc2 else cm2\n",
        "fig = plt.figure(figsize=(4,3))\n",
        "plt.imshow(best_cm, interpolation='nearest')\n",
        "plt.title(\"Matriz de confusión (mejor modelo)\")\n",
        "plt.xticks([0,1], [\"spam\",\"no_spam\"])\n",
        "plt.yticks([0,1], [\"spam\",\"no_spam\"])\n",
        "for i in range(best_cm.shape[0]):\n",
        "    for j in range(best_cm.shape[1]):\n",
        "        plt.text(j, i, str(best_cm[i, j]), ha=\"center\", va=\"center\")\n",
        "plt.xlabel(\"Predicción\")\n",
        "plt.ylabel(\"Real\")\n",
        "plt.tight_layout()\n",
        "plt.show()\n"
      ],
      "id": "E68YV2rTPYBG"
    },
    {
      "cell_type": "markdown",
      "metadata": {
        "id": "kMVqSKuIPYBH"
      },
      "source": [
        "\n",
        "## 7. predicción en correos nuevos\n",
        "\n",
        "Escriba sus propios ejemplos y observe resultados en ambas variantes.\n"
      ],
      "id": "kMVqSKuIPYBH"
    },
    {
      "cell_type": "code",
      "metadata": {
        "colab": {
          "base_uri": "https://localhost:8080/"
        },
        "id": "UAwuMacZPYBH",
        "outputId": "85b02734-6e3e-41d2-fa41-b709a5bec17e"
      },
      "execution_count": 8,
      "outputs": [
        {
          "output_type": "stream",
          "name": "stdout",
          "text": [
            "Predicciones (con stopwords personalizadas):\n",
            "- obtén tu premio gratis haciendo clic aquí -> spam\n",
            "- comparto el acta de la reunión de hoy -> no_spam\n",
            "- urgente: su cuenta requiere verificación para evitar cargos -> spam\n",
            "- se adjunta la factura del servicio del mes -> no_spam\n",
            "- promoción exclusiva: crédito inmediato sin interés -> spam\n",
            "\n",
            "Predicciones (sin stopwords):\n",
            "- obtén tu premio gratis haciendo clic aquí -> spam\n",
            "- comparto el acta de la reunión de hoy -> no_spam\n",
            "- urgente: su cuenta requiere verificación para evitar cargos -> spam\n",
            "- se adjunta la factura del servicio del mes -> no_spam\n",
            "- promoción exclusiva: crédito inmediato sin interés -> spam\n"
          ]
        }
      ],
      "source": [
        "\n",
        "nuevos = [\n",
        "    \"obtén tu premio gratis haciendo clic aquí\",\n",
        "    \"comparto el acta de la reunión de hoy\",\n",
        "    \"urgente: su cuenta requiere verificación para evitar cargos\",\n",
        "    \"se adjunta la factura del servicio del mes\",\n",
        "    \"promoción exclusiva: crédito inmediato sin interés\"\n",
        "]\n",
        "\n",
        "print(\"Predicciones (con stopwords personalizadas):\")\n",
        "for t in nuevos:\n",
        "    print(f\"- {t} -> {modelo_con_stop.predict([t])[0]}\")\n",
        "\n",
        "print(\"\\nPredicciones (sin stopwords):\")\n",
        "for t in nuevos:\n",
        "    print(f\"- {t} -> {modelo_sin_stop.predict([t])[0]}\")\n"
      ],
      "id": "UAwuMacZPYBH"
    },
    {
      "cell_type": "markdown",
      "metadata": {
        "id": "w6ZkgAI3PYBH"
      },
      "source": [
        "\n",
        "## 8. ejercicios guiados\n",
        "\n",
        "1. **n‑gramas:** cambie `ngram_range=(1,2)` a `(1,1)` y luego `(1,3)`. Compare métricas.\n",
        "2. **stopwords:** añada palabras como *“urgente”* o *“gratis”* a la lista. Observe cómo cambian *precision* y *recall* de la clase *spam*.\n",
        "3. **dataset:** duplique el tamaño del corpus creando nuevas frases realistas (colombianismos, bancos locales, términos administrativos). Evalúe si el *accuracy* mejora.\n",
        "4. **validación:** aumente `test_size` a `0.4` y repita. ¿Qué pasa con la estabilidad de las métricas?\n",
        "5. **errores:** identifique mensajes mal clasificados e intente reformularlos para entender qué términos confunden al modelo.\n"
      ],
      "id": "w6ZkgAI3PYBH"
    },
    {
      "cell_type": "markdown",
      "metadata": {
        "id": "-xhCLnVAPYBH"
      },
      "source": [
        "\n",
        "## 9. guardar dataset para reutilizar\n",
        "\n",
        "Se guarda un CSV para compartir o usar desde un script `.py`.\n"
      ],
      "id": "-xhCLnVAPYBH"
    },
    {
      "cell_type": "code",
      "metadata": {
        "id": "1FJLNJaNPYBH"
      },
      "execution_count": null,
      "outputs": [],
      "source": [
        "\n",
        "os.makedirs(\"data\", exist_ok=True)\n",
        "df.to_csv(\"data/dataset_spam_es.csv\", index=False, encoding=\"utf-8\")\n",
        "print(\"Guardado:\", os.path.abspath(\"data/dataset_spam_es.csv\"))\n"
      ],
      "id": "1FJLNJaNPYBH"
    }
  ],
  "metadata": {
    "kernelspec": {
      "display_name": "Python 3",
      "language": "python",
      "name": "python3"
    },
    "language_info": {
      "file_extension": ".py",
      "mimetype": "text/x-python",
      "name": "python",
      "pygments_lexer": "ipython3"
    },
    "colab": {
      "provenance": [],
      "include_colab_link": true
    }
  },
  "nbformat": 4,
  "nbformat_minor": 5
}